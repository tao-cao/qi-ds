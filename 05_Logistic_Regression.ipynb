{
  "nbformat": 4,
  "nbformat_minor": 0,
  "metadata": {
    "colab": {
      "name": "05_Logistic_Regression",
      "provenance": [],
      "collapsed_sections": [
        "CYH7kRTd9WoJ"
      ],
      "toc_visible": true,
      "include_colab_link": true
    },
    "kernelspec": {
      "name": "python3",
      "display_name": "Python 3"
    }
  },
  "cells": [
    {
      "cell_type": "markdown",
      "metadata": {
        "id": "view-in-github",
        "colab_type": "text"
      },
      "source": [
        "<a href=\"https://colab.research.google.com/github/tao-cao/qi-ds/blob/master/05_Logistic_Regression.ipynb\" target=\"_parent\"><img src=\"https://colab.research.google.com/assets/colab-badge.svg\" alt=\"Open In Colab\"/></a>"
      ]
    },
    {
      "cell_type": "markdown",
      "metadata": {
        "id": "QsUcHSE0TcRM",
        "colab_type": "text"
      },
      "source": [
        "<a href=\"https://practicalai.me\"><img src=\"https://raw.githubusercontent.com/practicalAI/images/master/images/rounded_logo.png\" width=\"100\" align=\"left\" hspace=\"20px\" vspace=\"20px\"></a>\n",
        "\n",
        "<img src=\"https://raw.githubusercontent.com/practicalAI/images/master/basic_ml/05_Logistic_Regression/logistic_regression.png\" width=\"170\" vspace=\"10px\" align=\"right\">\n",
        "\n",
        "<div align=\"left\">\n",
        "<h1>Logistic Regression</h1>\n",
        "\n",
        "In this lesson, we're going to implement logistic regression for a classification task where we want to probabilistically determine the outcome for a given set of inputs."
      ]
    },
    {
      "cell_type": "markdown",
      "metadata": {
        "id": "G-CQd9joTxwB",
        "colab_type": "text"
      },
      "source": [
        "<table align=\"center\">\n",
        "  <td>\n",
        "<img src=\"https://raw.githubusercontent.com/practicalAI/images/master/images/rounded_logo.png\" width=\"25\"><a target=\"_blank\" href=\"https://practicalai.me\"> View on practicalAI</a>\n",
        "  </td>\n",
        "  <td>\n",
        "<img src=\"https://raw.githubusercontent.com/practicalAI/images/master/images/colab_logo.png\" width=\"25\"><a target=\"_blank\" href=\"https://colab.research.google.com/github/practicalAI/practicalAI/blob/master/notebooks/05_Logistic_Regression.ipynb\"> Run in Google Colab</a>\n",
        "  </td>\n",
        "  <td>\n",
        "<img src=\"https://raw.githubusercontent.com/practicalAI/images/master/images/github_logo.png\" width=\"22\"><a target=\"_blank\" href=\"https://github.com/practicalAI/practicalAI/blob/master/notebooks/basic_ml/05_Logistic_Regression.ipynb\"> View code on GitHub</a>\n",
        "  </td>\n",
        "</table>"
      ]
    },
    {
      "cell_type": "markdown",
      "metadata": {
        "id": "VoMq0eFRvugb",
        "colab_type": "text"
      },
      "source": [
        "# Overview"
      ]
    },
    {
      "cell_type": "markdown",
      "metadata": {
        "id": "T4Y55tpzIjOa",
        "colab_type": "text"
      },
      "source": [
        "* **Objective:**  Predict the probability of class $y$ given the inputs $X$. The softmax classifier normalizes the linear outputs to determine class probabilities. \n",
        "* **Advantages:**\n",
        "  * Can predict class probabilities given a set on inputs.\n",
        "* **Disadvantages:**\n",
        "  * Sensitive to outliers since objective is to minimize cross entropy loss. Support vector machines ([SVMs](https://towardsdatascience.com/support-vector-machine-vs-logistic-regression-94cc2975433f)) are a good alternative to counter outliers.\n",
        "* **Miscellaneous:** Softmax classifier is going to used widely in neural network architectures as the last layer since it produces class probabilities."
      ]
    },
    {
      "cell_type": "markdown",
      "metadata": {
        "colab_type": "text",
        "id": "orlWnRz2-wyO"
      },
      "source": [
        "Logistic regression is just an extension on linear regression (both are generalized linear methods). We will still learn to model a line (plane) that models $y$ given $X$. Except now we are dealing with classification problems as opposed to regression problems so we want classification probabilities. We'll be using the softmax operation to normalize our logits ($XW$) to derive probabilities.\n",
        "\n",
        "Our goal is to learn a logistic model $\\hat{y}$ that models $y$ given $X$. \n",
        "\n",
        "$ \\hat{y} = \\frac{e^{XW_y}}{\\sum_j e^{XW}} $ \n",
        "* $\\hat{y}$ = prediction | $\\in \\mathbb{R}^{NX1}$ ($N$ is the number of samples)\n",
        "* $X$ = inputs | $\\in \\mathbb{R}^{NXD}$ ($D$ is the number of features)\n",
        "* $W$ = weights | $\\in \\mathbb{R}^{DXC}$ ($C$ is the number of classes)\n",
        "\n",
        "This function is known as the multinomial logistic regression or the softmax classifier. The softmax classifier will use the linear equation ($z=XW$) and normalize it (using the softmax function) to produce the probabiltiy for class y given the inputs.\n",
        "\n",
        "**NOTE**: We'll leave the bias weights out for now to avoid complicating the backpropagation calculation."
      ]
    },
    {
      "cell_type": "markdown",
      "metadata": {
        "id": "Jq65LZJbSpzd",
        "colab_type": "text"
      },
      "source": [
        "### Training"
      ]
    },
    {
      "cell_type": "markdown",
      "metadata": {
        "id": "-HBPn8zPTQfZ",
        "colab_type": "text"
      },
      "source": [
        "1. Randomly initialize the model's weights $W$ (we'll cover more effective initalization strategies in future lessons).\n",
        "2. Feed inputs $X$ into the model to receive the logits ($z=XW$). Apply the softmax operation on the logits to get the class probabilies $\\hat{y}$ in one-hot encoded form. For example, if there are three classes, the predicted class probabilities could look like [0.3, 0.3, 0.4]. \n",
        "  * $ \\hat{y} = softmax(z) = softmax(XW) = \\frac{e^{XW_y}}{\\sum_j e^{XW}} $\n",
        "3. Compare the predictions $\\hat{y}$ (ex.  [0.3, 0.3, 0.4]]) with the actual target values $y$ (ex. class 2 would look like [0, 0, 1]) with the objective (cost) function to determine loss $J$. A common objective function for logistics regression is cross-entropy loss. \n",
        "  * $J(\\theta) = - \\sum_i y_i ln (\\hat{y_i}) =  - \\sum_i y_i ln (\\frac{e^{X_iW_y}}{\\sum_j e^{X_iW}}) $\n",
        "    * example: $y$ = [0, 0, 1], $\\hat{y}$ = [0.3, 0.3, 0.4]\n",
        "    * $J(\\theta) = - \\sum_i y_i ln (\\hat{y_i}) =  - \\sum_i y_i ln (\\frac{e^{X_iW_y}}{\\sum_j e^{X_iW}}) = - \\sum_i [0 * ln(0.3) + 0 * ln(0.3) + 1 * ln(0.4)] = -ln(0.4) $\n",
        "  * This simplifies our cross entropy objective to the following: $J(\\theta) = - ln(\\hat{y_i})$ (negative log likelihood). This is only applicable when each input maps to exactly one class.\n",
        "    * $J(\\theta) = - \\sum_i ln(\\hat{y_i}) = - \\sum_i ln (\\frac{e^{X_iW_y}}{\\sum_j e^{X_iW}}) $\n",
        "4. Calculate the gradient of loss $J(\\theta)$ w.r.t to the model weights. Let's assume that our classes are mutually exclusive (a set of inputs could only belong to one class).\n",
        " * $\\frac{\\partial{J}}{\\partial{W_j}} = \\frac{\\partial{J}}{\\partial{\\hat{y}}}\\frac{\\partial{\\hat{y}}}{\\partial{W_j}} = - \\frac{1}{\\hat{y}}\\frac{\\partial{\\hat{y}}}{\\partial{W_j}} = - \\frac{1}{\\frac{e^{XW_y}}{\\sum_j e^{XW}}}\\frac{\\sum_j e^{XW}e^{XW_y}0 - e^{XW_y}e^{XW_j}X}{(\\sum_j e^{XW})^2} = \\frac{Xe^{XW_j}}{\\sum_j e^{XW}} = X\\hat{y}$\n",
        "  * $\\frac{\\partial{J}}{\\partial{W_y}} = \\frac{\\partial{J}}{\\partial{\\hat{y}}}\\frac{\\partial{\\hat{y}}}{\\partial{W_y}} = - \\frac{1}{\\hat{y}}\\frac{\\partial{\\hat{y}}}{\\partial{W_y}} = - \\frac{1}{\\frac{e^{XW_y}}{\\sum_j e^{XW}}}\\frac{\\sum_j e^{XW}e^{XW_y}X - e^{W_yX}e^{XW_y}X}{(\\sum_j e^{XW})^2} = \\frac{1}{\\hat{y}}(X\\hat{y} - X\\hat{y}^2) = X(\\hat{y}-1)$\n",
        "5. Update the weights $W$ using a small learning rate $\\alpha$. The updates will penalize the probabiltiy for the incorrect classes (j) and encourage a higher probability for the correct class (y).\n",
        "  * $W_j = W_j - \\alpha\\frac{\\partial{J}}{\\partial{W_j}}$\n",
        "6. Repeat steps 2 - 5 to minimize the loss and train the model."
      ]
    },
    {
      "cell_type": "markdown",
      "metadata": {
        "id": "r_hKrjzdtTgM",
        "colab_type": "text"
      },
      "source": [
        "# Set up"
      ]
    },
    {
      "cell_type": "code",
      "metadata": {
        "id": "9F3X_qTOKSmn",
        "colab_type": "code",
        "outputId": "866e5d36-fcdc-4a85-f5f3-4efce084c2d2",
        "colab": {
          "base_uri": "https://localhost:8080/",
          "height": 34
        }
      },
      "source": [
        "# Use TensorFlow 2.x\n",
        "%tensorflow_version 2.x"
      ],
      "execution_count": 0,
      "outputs": [
        {
          "output_type": "stream",
          "text": [
            "TensorFlow 2.x selected.\n"
          ],
          "name": "stdout"
        }
      ]
    },
    {
      "cell_type": "code",
      "metadata": {
        "id": "H385V4VUtWOv",
        "colab_type": "code",
        "colab": {}
      },
      "source": [
        "import os\n",
        "import numpy as np\n",
        "import tensorflow as tf"
      ],
      "execution_count": 0,
      "outputs": []
    },
    {
      "cell_type": "code",
      "metadata": {
        "id": "-drUMY9CFlQu",
        "colab_type": "code",
        "colab": {}
      },
      "source": [
        "# Arguments\n",
        "SEED = 1234\n",
        "DATA_FILE = 'tumors.csv'\n",
        "TRAIN_SIZE = 0.7\n",
        "VAL_SIZE = 0.15\n",
        "TEST_SIZE = 0.15\n",
        "NUM_EPOCHS = 100\n",
        "BATCH_SIZE = 32\n",
        "LEARNING_RATE = 1e-1\n",
        "INPUT_DIM = 2\n",
        "HIDDEN_DIM = 1\n",
        "NUM_CLASSES = 2\n",
        "SHUFFLE = True"
      ],
      "execution_count": 0,
      "outputs": []
    },
    {
      "cell_type": "code",
      "metadata": {
        "id": "pL67TlZO6Zg4",
        "colab_type": "code",
        "colab": {}
      },
      "source": [
        "# Set seed for reproducability\n",
        "np.random.seed(SEED)\n",
        "tf.random.set_seed(SEED)"
      ],
      "execution_count": 0,
      "outputs": []
    },
    {
      "cell_type": "markdown",
      "metadata": {
        "id": "00B5uEM8Tb0d",
        "colab_type": "text"
      },
      "source": [
        "# Data"
      ]
    },
    {
      "cell_type": "markdown",
      "metadata": {
        "id": "sYNIM3PxQGgo",
        "colab_type": "text"
      },
      "source": [
        "We'll used some synthesized data to train our models on. The task is to determine whether a tumor will be benign (harmless) or malignant (harmful) based on leukocyte (white blood cells) count and blood pressure. Note that this is a synethic dataset that has no clinical relevance."
      ]
    },
    {
      "cell_type": "code",
      "metadata": {
        "id": "A8rspXhNEgrL",
        "colab_type": "code",
        "colab": {}
      },
      "source": [
        "import matplotlib.pyplot as plt\n",
        "import pandas as pd\n",
        "from pandas.plotting import scatter_matrix\n",
        "import urllib"
      ],
      "execution_count": 0,
      "outputs": []
    },
    {
      "cell_type": "markdown",
      "metadata": {
        "id": "dyCEgQ5NCumb",
        "colab_type": "text"
      },
      "source": [
        "### Operations"
      ]
    },
    {
      "cell_type": "code",
      "metadata": {
        "id": "7sp_tSyItf1_",
        "colab_type": "code",
        "colab": {}
      },
      "source": [
        "# Upload data from GitHub to notebook's local drive\n",
        "url = \"https://raw.githubusercontent.com/practicalAI/practicalAI/master/data/tumors.csv\"\n",
        "response = urllib.request.urlopen(url)\n",
        "html = response.read()\n",
        "with open(DATA_FILE, 'wb') as fp:\n",
        "    fp.write(html)"
      ],
      "execution_count": 0,
      "outputs": []
    },
    {
      "cell_type": "code",
      "metadata": {
        "id": "7alqmyzXtgE8",
        "colab_type": "code",
        "outputId": "5779213d-12cb-4a3f-cf29-a22fe03337d5",
        "colab": {
          "base_uri": "https://localhost:8080/",
          "height": 204
        }
      },
      "source": [
        "# Read from CSV to Pandas DataFrame\n",
        "df = pd.read_csv(DATA_FILE, header=0)\n",
        "df.head()"
      ],
      "execution_count": 0,
      "outputs": [
        {
          "output_type": "execute_result",
          "data": {
            "text/html": [
              "<div>\n",
              "<style scoped>\n",
              "    .dataframe tbody tr th:only-of-type {\n",
              "        vertical-align: middle;\n",
              "    }\n",
              "\n",
              "    .dataframe tbody tr th {\n",
              "        vertical-align: top;\n",
              "    }\n",
              "\n",
              "    .dataframe thead th {\n",
              "        text-align: right;\n",
              "    }\n",
              "</style>\n",
              "<table border=\"1\" class=\"dataframe\">\n",
              "  <thead>\n",
              "    <tr style=\"text-align: right;\">\n",
              "      <th></th>\n",
              "      <th>leukocyte_count</th>\n",
              "      <th>blood_pressure</th>\n",
              "      <th>tumor_class</th>\n",
              "    </tr>\n",
              "  </thead>\n",
              "  <tbody>\n",
              "    <tr>\n",
              "      <th>0</th>\n",
              "      <td>13.472969</td>\n",
              "      <td>15.250393</td>\n",
              "      <td>malignant</td>\n",
              "    </tr>\n",
              "    <tr>\n",
              "      <th>1</th>\n",
              "      <td>10.805510</td>\n",
              "      <td>14.109676</td>\n",
              "      <td>malignant</td>\n",
              "    </tr>\n",
              "    <tr>\n",
              "      <th>2</th>\n",
              "      <td>13.834053</td>\n",
              "      <td>15.793920</td>\n",
              "      <td>malignant</td>\n",
              "    </tr>\n",
              "    <tr>\n",
              "      <th>3</th>\n",
              "      <td>9.572811</td>\n",
              "      <td>17.873286</td>\n",
              "      <td>malignant</td>\n",
              "    </tr>\n",
              "    <tr>\n",
              "      <th>4</th>\n",
              "      <td>7.633667</td>\n",
              "      <td>16.598559</td>\n",
              "      <td>malignant</td>\n",
              "    </tr>\n",
              "  </tbody>\n",
              "</table>\n",
              "</div>"
            ],
            "text/plain": [
              "   leukocyte_count  blood_pressure tumor_class\n",
              "0        13.472969       15.250393   malignant\n",
              "1        10.805510       14.109676   malignant\n",
              "2        13.834053       15.793920   malignant\n",
              "3         9.572811       17.873286   malignant\n",
              "4         7.633667       16.598559   malignant"
            ]
          },
          "metadata": {
            "tags": []
          },
          "execution_count": 7
        }
      ]
    },
    {
      "cell_type": "code",
      "metadata": {
        "id": "vvtHqFmhJfvi",
        "colab_type": "code",
        "outputId": "bbf6d83b-2599-4509-cc93-f941148a4e3b",
        "colab": {
          "base_uri": "https://localhost:8080/",
          "height": 68
        }
      },
      "source": [
        "df.tumor_class.value_counts()"
      ],
      "execution_count": 0,
      "outputs": [
        {
          "output_type": "execute_result",
          "data": {
            "text/plain": [
              "malignant    611\n",
              "benign       389\n",
              "Name: tumor_class, dtype: int64"
            ]
          },
          "metadata": {
            "tags": []
          },
          "execution_count": 9
        }
      ]
    },
    {
      "cell_type": "code",
      "metadata": {
        "id": "3aqJxfKmnYTs",
        "colab_type": "code",
        "colab": {}
      },
      "source": [
        "# Define X and y\n",
        "X = df[['leukocyte_count', 'blood_pressure']].values\n",
        "y = df['tumor_class'].values"
      ],
      "execution_count": 0,
      "outputs": []
    },
    {
      "cell_type": "code",
      "metadata": {
        "id": "xtbF7k25J26P",
        "colab_type": "code",
        "outputId": "b691f2f2-6aee-4ccc-ca82-a7980a523959",
        "colab": {
          "base_uri": "https://localhost:8080/",
          "height": 1000
        }
      },
      "source": [
        "y"
      ],
      "execution_count": 0,
      "outputs": [
        {
          "output_type": "execute_result",
          "data": {
            "text/plain": [
              "array(['malignant', 'malignant', 'malignant', 'malignant', 'malignant',\n",
              "       'malignant', 'malignant', 'malignant', 'malignant', 'malignant',\n",
              "       'benign', 'malignant', 'malignant', 'malignant', 'malignant',\n",
              "       'benign', 'benign', 'malignant', 'benign', 'malignant',\n",
              "       'malignant', 'benign', 'malignant', 'malignant', 'malignant',\n",
              "       'malignant', 'malignant', 'malignant', 'malignant', 'malignant',\n",
              "       'malignant', 'benign', 'benign', 'benign', 'benign', 'malignant',\n",
              "       'malignant', 'malignant', 'malignant', 'benign', 'malignant',\n",
              "       'malignant', 'malignant', 'malignant', 'malignant', 'malignant',\n",
              "       'benign', 'malignant', 'malignant', 'malignant', 'malignant',\n",
              "       'malignant', 'benign', 'benign', 'benign', 'benign', 'malignant',\n",
              "       'benign', 'malignant', 'benign', 'malignant', 'benign',\n",
              "       'malignant', 'benign', 'malignant', 'malignant', 'benign',\n",
              "       'malignant', 'malignant', 'malignant', 'benign', 'malignant',\n",
              "       'malignant', 'benign', 'benign', 'benign', 'benign', 'malignant',\n",
              "       'benign', 'malignant', 'malignant', 'malignant', 'benign',\n",
              "       'malignant', 'benign', 'benign', 'malignant', 'malignant',\n",
              "       'benign', 'malignant', 'malignant', 'malignant', 'malignant',\n",
              "       'malignant', 'malignant', 'malignant', 'malignant', 'benign',\n",
              "       'malignant', 'malignant', 'malignant', 'benign', 'malignant',\n",
              "       'benign', 'benign', 'benign', 'benign', 'malignant', 'malignant',\n",
              "       'malignant', 'benign', 'benign', 'malignant', 'benign',\n",
              "       'malignant', 'benign', 'benign', 'malignant', 'malignant',\n",
              "       'malignant', 'benign', 'benign', 'benign', 'benign', 'malignant',\n",
              "       'malignant', 'benign', 'malignant', 'malignant', 'benign',\n",
              "       'malignant', 'benign', 'malignant', 'benign', 'benign', 'benign',\n",
              "       'benign', 'benign', 'malignant', 'benign', 'benign', 'benign',\n",
              "       'benign', 'benign', 'benign', 'benign', 'benign', 'malignant',\n",
              "       'benign', 'malignant', 'benign', 'malignant', 'benign',\n",
              "       'malignant', 'malignant', 'benign', 'benign', 'benign',\n",
              "       'malignant', 'benign', 'malignant', 'malignant', 'malignant',\n",
              "       'malignant', 'malignant', 'benign', 'malignant', 'benign',\n",
              "       'malignant', 'benign', 'malignant', 'benign', 'malignant',\n",
              "       'malignant', 'malignant', 'malignant', 'malignant', 'malignant',\n",
              "       'benign', 'benign', 'malignant', 'malignant', 'malignant',\n",
              "       'benign', 'benign', 'malignant', 'malignant', 'benign',\n",
              "       'malignant', 'benign', 'benign', 'malignant', 'benign', 'benign',\n",
              "       'benign', 'malignant', 'malignant', 'malignant', 'malignant',\n",
              "       'benign', 'benign', 'malignant', 'malignant', 'benign', 'benign',\n",
              "       'malignant', 'benign', 'malignant', 'malignant', 'benign',\n",
              "       'benign', 'malignant', 'benign', 'malignant', 'benign', 'benign',\n",
              "       'malignant', 'malignant', 'malignant', 'benign', 'malignant',\n",
              "       'malignant', 'benign', 'malignant', 'malignant', 'malignant',\n",
              "       'benign', 'benign', 'benign', 'benign', 'malignant', 'malignant',\n",
              "       'malignant', 'malignant', 'malignant', 'malignant', 'malignant',\n",
              "       'malignant', 'malignant', 'malignant', 'malignant', 'malignant',\n",
              "       'malignant', 'malignant', 'benign', 'benign', 'malignant',\n",
              "       'malignant', 'malignant', 'malignant', 'malignant', 'malignant',\n",
              "       'malignant', 'malignant', 'malignant', 'malignant', 'malignant',\n",
              "       'malignant', 'malignant', 'malignant', 'malignant', 'malignant',\n",
              "       'malignant', 'malignant', 'malignant', 'benign', 'benign',\n",
              "       'malignant', 'malignant', 'malignant', 'malignant', 'malignant',\n",
              "       'malignant', 'malignant', 'malignant', 'benign', 'malignant',\n",
              "       'malignant', 'malignant', 'malignant', 'malignant', 'benign',\n",
              "       'malignant', 'benign', 'malignant', 'malignant', 'malignant',\n",
              "       'benign', 'malignant', 'benign', 'malignant', 'benign',\n",
              "       'malignant', 'malignant', 'benign', 'malignant', 'malignant',\n",
              "       'benign', 'benign', 'malignant', 'malignant', 'benign', 'benign',\n",
              "       'benign', 'benign', 'malignant', 'benign', 'benign', 'malignant',\n",
              "       'malignant', 'benign', 'malignant', 'benign', 'malignant',\n",
              "       'malignant', 'benign', 'malignant', 'benign', 'benign', 'benign',\n",
              "       'malignant', 'malignant', 'benign', 'malignant', 'malignant',\n",
              "       'benign', 'benign', 'malignant', 'benign', 'benign', 'benign',\n",
              "       'benign', 'benign', 'benign', 'malignant', 'benign', 'malignant',\n",
              "       'benign', 'malignant', 'benign', 'malignant', 'benign', 'benign',\n",
              "       'benign', 'malignant', 'malignant', 'benign', 'malignant',\n",
              "       'benign', 'malignant', 'benign', 'malignant', 'benign',\n",
              "       'malignant', 'benign', 'malignant', 'malignant', 'benign',\n",
              "       'malignant', 'benign', 'benign', 'malignant', 'benign',\n",
              "       'malignant', 'benign', 'malignant', 'malignant', 'malignant',\n",
              "       'malignant', 'benign', 'benign', 'malignant', 'malignant',\n",
              "       'benign', 'malignant', 'malignant', 'benign', 'malignant',\n",
              "       'benign', 'malignant', 'benign', 'malignant', 'benign',\n",
              "       'malignant', 'benign', 'malignant', 'malignant', 'benign',\n",
              "       'malignant', 'benign', 'malignant', 'malignant', 'benign',\n",
              "       'benign', 'malignant', 'malignant', 'benign', 'malignant',\n",
              "       'malignant', 'malignant', 'benign', 'malignant', 'malignant',\n",
              "       'malignant', 'malignant', 'benign', 'benign', 'malignant',\n",
              "       'benign', 'malignant', 'malignant', 'benign', 'malignant',\n",
              "       'benign', 'malignant', 'malignant', 'malignant', 'benign',\n",
              "       'benign', 'malignant', 'benign', 'malignant', 'malignant',\n",
              "       'malignant', 'benign', 'benign', 'malignant', 'malignant',\n",
              "       'malignant', 'benign', 'malignant', 'malignant', 'benign',\n",
              "       'malignant', 'malignant', 'benign', 'benign', 'malignant',\n",
              "       'malignant', 'malignant', 'benign', 'benign', 'malignant',\n",
              "       'benign', 'benign', 'malignant', 'malignant', 'malignant',\n",
              "       'benign', 'malignant', 'benign', 'benign', 'benign', 'malignant',\n",
              "       'malignant', 'malignant', 'benign', 'malignant', 'benign',\n",
              "       'malignant', 'benign', 'malignant', 'benign', 'benign',\n",
              "       'malignant', 'benign', 'benign', 'malignant', 'malignant',\n",
              "       'benign', 'malignant', 'malignant', 'malignant', 'benign',\n",
              "       'malignant', 'malignant', 'malignant', 'malignant', 'malignant',\n",
              "       'malignant', 'malignant', 'malignant', 'malignant', 'benign',\n",
              "       'malignant', 'benign', 'malignant', 'benign', 'benign', 'benign',\n",
              "       'benign', 'benign', 'malignant', 'malignant', 'benign',\n",
              "       'malignant', 'benign', 'malignant', 'malignant', 'benign',\n",
              "       'benign', 'malignant', 'malignant', 'malignant', 'malignant',\n",
              "       'malignant', 'benign', 'benign', 'malignant', 'malignant',\n",
              "       'malignant', 'malignant', 'benign', 'malignant', 'benign',\n",
              "       'benign', 'malignant', 'malignant', 'malignant', 'benign',\n",
              "       'benign', 'malignant', 'benign', 'benign', 'malignant',\n",
              "       'malignant', 'malignant', 'benign', 'malignant', 'benign',\n",
              "       'malignant', 'malignant', 'malignant', 'malignant', 'benign',\n",
              "       'benign', 'benign', 'malignant', 'malignant', 'malignant',\n",
              "       'benign', 'benign', 'malignant', 'benign', 'malignant',\n",
              "       'malignant', 'malignant', 'benign', 'benign', 'malignant',\n",
              "       'malignant', 'malignant', 'benign', 'malignant', 'malignant',\n",
              "       'malignant', 'malignant', 'benign', 'malignant', 'malignant',\n",
              "       'malignant', 'malignant', 'malignant', 'benign', 'benign',\n",
              "       'benign', 'benign', 'malignant', 'malignant', 'malignant',\n",
              "       'malignant', 'malignant', 'malignant', 'benign', 'malignant',\n",
              "       'benign', 'benign', 'malignant', 'malignant', 'malignant',\n",
              "       'benign', 'benign', 'benign', 'malignant', 'benign', 'benign',\n",
              "       'benign', 'malignant', 'benign', 'malignant', 'malignant',\n",
              "       'malignant', 'benign', 'benign', 'malignant', 'benign',\n",
              "       'malignant', 'malignant', 'benign', 'malignant', 'benign',\n",
              "       'malignant', 'benign', 'malignant', 'benign', 'benign',\n",
              "       'malignant', 'benign', 'benign', 'malignant', 'benign',\n",
              "       'malignant', 'benign', 'malignant', 'benign', 'malignant',\n",
              "       'benign', 'benign', 'malignant', 'malignant', 'malignant',\n",
              "       'benign', 'malignant', 'malignant', 'malignant', 'malignant',\n",
              "       'benign', 'benign', 'malignant', 'malignant', 'malignant',\n",
              "       'benign', 'benign', 'malignant', 'benign', 'malignant', 'benign',\n",
              "       'benign', 'benign', 'malignant', 'malignant', 'malignant',\n",
              "       'malignant', 'benign', 'malignant', 'malignant', 'benign',\n",
              "       'malignant', 'malignant', 'malignant', 'malignant', 'malignant',\n",
              "       'benign', 'malignant', 'benign', 'malignant', 'malignant',\n",
              "       'malignant', 'malignant', 'malignant', 'malignant', 'malignant',\n",
              "       'malignant', 'malignant', 'benign', 'benign', 'malignant',\n",
              "       'malignant', 'malignant', 'malignant', 'benign', 'malignant',\n",
              "       'malignant', 'malignant', 'malignant', 'malignant', 'malignant',\n",
              "       'malignant', 'malignant', 'malignant', 'malignant', 'benign',\n",
              "       'malignant', 'malignant', 'malignant', 'malignant', 'benign',\n",
              "       'benign', 'benign', 'malignant', 'malignant', 'malignant',\n",
              "       'benign', 'benign', 'malignant', 'malignant', 'benign',\n",
              "       'malignant', 'malignant', 'malignant', 'benign', 'benign',\n",
              "       'malignant', 'malignant', 'benign', 'malignant', 'malignant',\n",
              "       'malignant', 'malignant', 'benign', 'malignant', 'benign',\n",
              "       'malignant', 'benign', 'malignant', 'malignant', 'benign',\n",
              "       'malignant', 'malignant', 'malignant', 'malignant', 'benign',\n",
              "       'malignant', 'malignant', 'benign', 'malignant', 'malignant',\n",
              "       'benign', 'malignant', 'malignant', 'benign', 'malignant',\n",
              "       'benign', 'malignant', 'benign', 'benign', 'malignant', 'benign',\n",
              "       'malignant', 'malignant', 'benign', 'benign', 'malignant',\n",
              "       'benign', 'malignant', 'benign', 'malignant', 'malignant',\n",
              "       'malignant', 'malignant', 'malignant', 'malignant', 'benign',\n",
              "       'benign', 'malignant', 'benign', 'malignant', 'malignant',\n",
              "       'malignant', 'malignant', 'benign', 'benign', 'malignant',\n",
              "       'malignant', 'malignant', 'benign', 'benign', 'malignant',\n",
              "       'benign', 'malignant', 'malignant', 'benign', 'malignant',\n",
              "       'benign', 'malignant', 'benign', 'benign', 'benign', 'benign',\n",
              "       'benign', 'malignant', 'benign', 'malignant', 'benign',\n",
              "       'malignant', 'malignant', 'benign', 'malignant', 'benign',\n",
              "       'benign', 'malignant', 'benign', 'malignant', 'malignant',\n",
              "       'malignant', 'malignant', 'malignant', 'malignant', 'benign',\n",
              "       'malignant', 'malignant', 'benign', 'malignant', 'malignant',\n",
              "       'malignant', 'benign', 'malignant', 'benign', 'benign',\n",
              "       'malignant', 'malignant', 'malignant', 'malignant', 'malignant',\n",
              "       'benign', 'malignant', 'malignant', 'malignant', 'malignant',\n",
              "       'benign', 'malignant', 'malignant', 'benign', 'malignant',\n",
              "       'benign', 'malignant', 'benign', 'malignant', 'benign', 'benign',\n",
              "       'malignant', 'malignant', 'benign', 'malignant', 'malignant',\n",
              "       'malignant', 'malignant', 'malignant', 'malignant', 'malignant',\n",
              "       'malignant', 'malignant', 'malignant', 'benign', 'benign',\n",
              "       'benign', 'malignant', 'malignant', 'benign', 'benign',\n",
              "       'malignant', 'malignant', 'malignant', 'malignant', 'benign',\n",
              "       'malignant', 'benign', 'benign', 'benign', 'malignant', 'benign',\n",
              "       'malignant', 'malignant', 'malignant', 'malignant', 'malignant',\n",
              "       'benign', 'benign', 'malignant', 'malignant', 'malignant',\n",
              "       'malignant', 'malignant', 'benign', 'malignant', 'malignant',\n",
              "       'benign', 'malignant', 'benign', 'malignant', 'malignant',\n",
              "       'benign', 'malignant', 'malignant', 'malignant', 'benign',\n",
              "       'malignant', 'benign', 'malignant', 'malignant', 'benign',\n",
              "       'benign', 'malignant', 'malignant', 'malignant', 'malignant',\n",
              "       'malignant', 'malignant', 'benign', 'benign', 'malignant',\n",
              "       'benign', 'benign', 'benign', 'malignant', 'benign', 'malignant',\n",
              "       'benign', 'benign', 'benign', 'malignant', 'malignant', 'benign',\n",
              "       'malignant', 'malignant', 'benign', 'malignant', 'malignant',\n",
              "       'malignant', 'malignant', 'malignant', 'malignant', 'malignant',\n",
              "       'benign', 'benign', 'malignant', 'malignant', 'malignant',\n",
              "       'malignant', 'malignant', 'benign', 'malignant', 'malignant',\n",
              "       'malignant', 'malignant', 'malignant', 'malignant', 'benign',\n",
              "       'benign', 'benign', 'malignant', 'malignant', 'benign', 'benign',\n",
              "       'malignant', 'malignant', 'benign', 'malignant', 'benign',\n",
              "       'benign', 'malignant', 'benign', 'malignant', 'benign',\n",
              "       'malignant', 'benign', 'malignant', 'malignant', 'malignant',\n",
              "       'benign', 'malignant', 'malignant', 'benign', 'malignant',\n",
              "       'benign', 'benign', 'benign', 'malignant', 'benign', 'malignant',\n",
              "       'benign', 'malignant', 'benign', 'malignant', 'malignant',\n",
              "       'benign', 'malignant', 'benign', 'malignant', 'malignant',\n",
              "       'benign', 'malignant', 'malignant', 'malignant', 'benign',\n",
              "       'malignant', 'malignant', 'benign', 'benign', 'malignant',\n",
              "       'malignant', 'malignant', 'malignant', 'malignant', 'malignant',\n",
              "       'malignant', 'malignant', 'malignant', 'malignant', 'malignant'],\n",
              "      dtype=object)"
            ]
          },
          "metadata": {
            "tags": []
          },
          "execution_count": 10
        }
      ]
    },
    {
      "cell_type": "code",
      "metadata": {
        "id": "lpoF3_EgDtPl",
        "colab_type": "code",
        "outputId": "a940ff0c-a80b-4abf-be5a-dc689f71def0",
        "colab": {
          "base_uri": "https://localhost:8080/",
          "height": 279
        }
      },
      "source": [
        "# Plot data\n",
        "colors = {'benign': 'red', 'malignant': 'blue'}\n",
        "plt.scatter(X[:, 0], X[:, 1], c=[colors[_y] for _y in y], s=25, edgecolors='k')\n",
        "plt.xlabel('leukocyte count')\n",
        "plt.ylabel('blood pressure')\n",
        "plt.legend(['malignant ', 'benign'], loc=\"upper right\")\n",
        "plt.show()"
      ],
      "execution_count": 0,
      "outputs": [
        {
          "output_type": "display_data",
          "data": {
            "image/png": "[encoded data removed]",
            "text/plain": [
              "<Figure size 432x288 with 1 Axes>"
            ]
          },
          "metadata": {
            "tags": []
          }
        }
      ]
    },
    {
      "cell_type": "markdown",
      "metadata": {
        "id": "23rUN1uTpoc4",
        "colab_type": "text"
      },
      "source": [
        "# Split data"
      ]
    },
    {
      "cell_type": "code",
      "metadata": {
        "id": "EHcoL7fH_CsS",
        "colab_type": "code",
        "colab": {}
      },
      "source": [
        "import collections\n",
        "import json\n",
        "from sklearn.model_selection import train_test_split"
      ],
      "execution_count": 0,
      "outputs": []
    },
    {
      "cell_type": "markdown",
      "metadata": {
        "id": "o0YPFskY1j1T",
        "colab_type": "text"
      },
      "source": [
        "### Components"
      ]
    },
    {
      "cell_type": "markdown",
      "metadata": {
        "id": "_Mak_supAsIV",
        "colab_type": "text"
      },
      "source": [
        "Splitting the dataset for classification tasks requires more than just randomly splitting into train, validation and test sets. We want to ensure that each split has a similar class distribution so that we can learn to predict well across all the classes. We can do this by specifying the `stratify` argument in [`train_test_split`](https://scikit-learn.org/stable/modules/generated/sklearn.model_selection.train_test_split.html) which will be set to the class labels."
      ]
    },
    {
      "cell_type": "code",
      "metadata": {
        "id": "27h91LX0pp7F",
        "colab_type": "code",
        "colab": {}
      },
      "source": [
        "def train_val_test_split(X, y, val_size, test_size, shuffle):\n",
        "    \"\"\"Split data into train/val/test datasets.\n",
        "    \"\"\"\n",
        "    X_train, X_test, y_train, y_test = train_test_split(\n",
        "        X, y, test_size=test_size, stratify=y, shuffle=shuffle)\n",
        "    X_train, X_val, y_train, y_val = train_test_split(\n",
        "        X_train, y_train, test_size=val_size, stratify=y_train, shuffle=shuffle)\n",
        "    return X_train, X_val, X_test, y_train, y_val, y_test"
      ],
      "execution_count": 0,
      "outputs": []
    },
    {
      "cell_type": "markdown",
      "metadata": {
        "id": "iH6bWZ221l6J",
        "colab_type": "text"
      },
      "source": [
        "### Operations"
      ]
    },
    {
      "cell_type": "code",
      "metadata": {
        "id": "D4fy2vUjr-Qe",
        "colab_type": "code",
        "outputId": "43c51d6e-0415-48c8-ff77-90f7a9c084d8",
        "colab": {
          "base_uri": "https://localhost:8080/",
          "height": 119
        }
      },
      "source": [
        "# Create data splits\n",
        "X_train, X_val, X_test, y_train, y_val, y_test = train_val_test_split(\n",
        "    X=X, y=y, val_size=VAL_SIZE, test_size=TEST_SIZE, shuffle=SHUFFLE)\n",
        "class_counts = dict(collections.Counter(y))\n",
        "print (f\"X_train: {X_train.shape}, y_train: {y_train.shape}\")\n",
        "print (f\"X_val: {X_val.shape}, y_val: {y_val.shape}\")\n",
        "print (f\"X_test: {X_test.shape}, y_test: {y_test.shape}\")\n",
        "print (f\"X_train[0]: {X_train[0]}\")\n",
        "print (f\"y_train[0]: {y_train[0]}\")\n",
        "print (f\"Classes: {class_counts}\")"
      ],
      "execution_count": 0,
      "outputs": [
        {
          "output_type": "stream",
          "text": [
            "X_train: (722, 2), y_train: (722,)\n",
            "X_val: (128, 2), y_val: (128,)\n",
            "X_test: (150, 2), y_test: (150,)\n",
            "X_train[0]: [18.01865938 15.48133647]\n",
            "y_train[0]: benign\n",
            "Classes: {'malignant': 611, 'benign': 389}\n"
          ],
          "name": "stdout"
        }
      ]
    },
    {
      "cell_type": "markdown",
      "metadata": {
        "id": "lLHG5_vpHQ3d",
        "colab_type": "text"
      },
      "source": [
        "# Label encoder"
      ]
    },
    {
      "cell_type": "markdown",
      "metadata": {
        "id": "YGWO8zDCHTFp",
        "colab_type": "text"
      },
      "source": [
        "You'll notice that our class labels are text. We need to encode them into integers so we can use them in our models. We're going to the scikit-learn's [LabelEncoder](https://scikit-learn.org/stable/modules/generated/sklearn.preprocessing.LabelEncoder.html#sklearn.preprocessing.LabelEncoder) to do this. "
      ]
    },
    {
      "cell_type": "code",
      "metadata": {
        "id": "KPIsL1kAHkhu",
        "colab_type": "code",
        "colab": {}
      },
      "source": [
        "import json\n",
        "from sklearn.preprocessing import LabelEncoder"
      ],
      "execution_count": 0,
      "outputs": []
    },
    {
      "cell_type": "code",
      "metadata": {
        "id": "hcfHtYFtHkmo",
        "colab_type": "code",
        "colab": {}
      },
      "source": [
        "# Output vectorizer\n",
        "y_tokenizer = LabelEncoder()"
      ],
      "execution_count": 0,
      "outputs": []
    },
    {
      "cell_type": "code",
      "metadata": {
        "id": "7JBazS_ZQTMa",
        "colab_type": "code",
        "outputId": "e3818a02-0c46-4639-b38d-df566eda5600",
        "colab": {
          "base_uri": "https://localhost:8080/",
          "height": 34
        }
      },
      "source": [
        "y_tokenizer"
      ],
      "execution_count": 0,
      "outputs": [
        {
          "output_type": "execute_result",
          "data": {
            "text/plain": [
              "LabelEncoder()"
            ]
          },
          "metadata": {
            "tags": []
          },
          "execution_count": 18
        }
      ]
    },
    {
      "cell_type": "code",
      "metadata": {
        "id": "4hbPtvg4HoqE",
        "colab_type": "code",
        "outputId": "611fb059-8224-4e5d-9a1c-62dc05a692e0",
        "colab": {
          "base_uri": "https://localhost:8080/",
          "height": 34
        }
      },
      "source": [
        "# Fit on train data\n",
        "y_tokenizer = y_tokenizer.fit(y_train)\n",
        "classes = y_tokenizer.classes_\n",
        "print (f\"classes: {classes}\")"
      ],
      "execution_count": 0,
      "outputs": [
        {
          "output_type": "stream",
          "text": [
            "classes: ['benign' 'malignant']\n"
          ],
          "name": "stdout"
        }
      ]
    },
    {
      "cell_type": "code",
      "metadata": {
        "id": "U7MTxcrcHotG",
        "colab_type": "code",
        "outputId": "72805b34-3766-4d3e-9d21-0b471a234769",
        "colab": {
          "base_uri": "https://localhost:8080/",
          "height": 51
        }
      },
      "source": [
        "# Convert labels to tokens\n",
        "print (f\"y_train[0]: {y_train[0]}\")\n",
        "y_train = y_tokenizer.transform(y_train)\n",
        "y_val = y_tokenizer.transform(y_val)\n",
        "y_test = y_tokenizer.transform(y_test)\n",
        "print (f\"y_train[0]: {y_train[0]}\")"
      ],
      "execution_count": 0,
      "outputs": [
        {
          "output_type": "stream",
          "text": [
            "y_train[0]: benign\n",
            "y_train[0]: 0\n"
          ],
          "name": "stdout"
        }
      ]
    },
    {
      "cell_type": "code",
      "metadata": {
        "id": "NycIypyZQ8Ep",
        "colab_type": "code",
        "colab": {}
      },
      "source": [
        "counts = collections.Counter(y_train)"
      ],
      "execution_count": 0,
      "outputs": []
    },
    {
      "cell_type": "code",
      "metadata": {
        "id": "gBlbGqbCRKVY",
        "colab_type": "code",
        "outputId": "d4fd4716-4ad6-4259-e9b0-bd12f48d0425",
        "colab": {
          "base_uri": "https://localhost:8080/",
          "height": 34
        }
      },
      "source": [
        "type(counts),counts.items()\n"
      ],
      "execution_count": 0,
      "outputs": [
        {
          "output_type": "execute_result",
          "data": {
            "text/plain": [
              "(collections.Counter, dict_items([(0, 281), (1, 441)]))"
            ]
          },
          "metadata": {
            "tags": []
          },
          "execution_count": 23
        }
      ]
    },
    {
      "cell_type": "code",
      "metadata": {
        "id": "FjpmLDduRA49",
        "colab_type": "code",
        "outputId": "e1579470-b879-4e7e-ab0f-dec63543c794",
        "colab": {
          "base_uri": "https://localhost:8080/",
          "height": 34
        }
      },
      "source": [
        "{_class: 1.0/count for _class, count in counts.items()}"
      ],
      "execution_count": 0,
      "outputs": [
        {
          "output_type": "execute_result",
          "data": {
            "text/plain": [
              "{0: 0.0035587188612099642, 1: 0.0022675736961451248}"
            ]
          },
          "metadata": {
            "tags": []
          },
          "execution_count": 22
        }
      ]
    },
    {
      "cell_type": "code",
      "metadata": {
        "id": "sXHboWkUAIjI",
        "colab_type": "code",
        "outputId": "17184950-4587-407a-c5ae-68d219f5c5b9",
        "colab": {
          "base_uri": "https://localhost:8080/",
          "height": 51
        }
      },
      "source": [
        "# Class weights\n",
        "counts = collections.Counter(y_train)\n",
        "class_weights = {_class: 1.0/count for _class, count in counts.items()}\n",
        "print (f\"class counts: {counts},\\nclass weights: {class_weights}\")"
      ],
      "execution_count": 0,
      "outputs": [
        {
          "output_type": "stream",
          "text": [
            "class counts: Counter({1: 441, 0: 281}),\n",
            "class weights: {0: 0.0035587188612099642, 1: 0.0022675736961451248}\n"
          ],
          "name": "stdout"
        }
      ]
    },
    {
      "cell_type": "markdown",
      "metadata": {
        "id": "nkAmzEwVHs6E",
        "colab_type": "text"
      },
      "source": [
        "<img height=\"45\" src=\"http://bestanimations.com/HomeOffice/Lights/Bulbs/animated-light-bulb-gif-29.gif\" align=\"left\" vspace=\"5px\" hspace=\"10px\">\n",
        "\n",
        "Class weights are useful for weighting the loss function during training. It tells the model to focus on samples from an under-represented class."
      ]
    },
    {
      "cell_type": "markdown",
      "metadata": {
        "id": "IodMyhnAJUg_",
        "colab_type": "text"
      },
      "source": [
        "# Standardize data"
      ]
    },
    {
      "cell_type": "markdown",
      "metadata": {
        "id": "QRhNHi9YJfDm",
        "colab_type": "text"
      },
      "source": [
        "We need to standardize our data (zero mean and unit variance) in order to optimize quickly. We're only going to standardize the inputs X because out outputs y are class values."
      ]
    },
    {
      "cell_type": "code",
      "metadata": {
        "id": "rjIz1KKYJWI7",
        "colab_type": "code",
        "colab": {}
      },
      "source": [
        "from sklearn.preprocessing import StandardScaler"
      ],
      "execution_count": 0,
      "outputs": []
    },
    {
      "cell_type": "code",
      "metadata": {
        "id": "hP6VTXSiJWM1",
        "colab_type": "code",
        "colab": {}
      },
      "source": [
        "# Standardize the data (mean=0, std=1) using training data\n",
        "X_scaler = StandardScaler().fit(X_train)"
      ],
      "execution_count": 0,
      "outputs": []
    },
    {
      "cell_type": "code",
      "metadata": {
        "id": "kn2SDd28Jwna",
        "colab_type": "code",
        "colab": {}
      },
      "source": [
        "# Apply scaler on training and test data (don't standardize outputs for classification)\n",
        "standardized_X_train = X_scaler.transform(X_train)\n",
        "standardized_X_val = X_scaler.transform(X_val)\n",
        "standardized_X_test = X_scaler.transform(X_test)"
      ],
      "execution_count": 0,
      "outputs": []
    },
    {
      "cell_type": "code",
      "metadata": {
        "id": "BYIQafvAUu0T",
        "colab_type": "code",
        "outputId": "fbf5a001-bec7-4e08-e090-69a98719ac5a",
        "colab": {
          "base_uri": "https://localhost:8080/",
          "height": 68
        }
      },
      "source": [
        "print (f\"no standardized_X_train: mean: {np.mean(X_train, axis=0)[0]}, std: {np.std(X_train, axis=0)[0]}\")\n",
        "print (f\"no standardized_X_val: mean: {np.mean(X_val, axis=0)[0]}, std: {np.std(X_val, axis=0)[0]}\")\n",
        "print (f\"no standardized_X_test: mean: {np.mean(X_test, axis=0)[0]}, std: {np.std(X_test, axis=0)[0]}\")"
      ],
      "execution_count": 0,
      "outputs": [
        {
          "output_type": "stream",
          "text": [
            "no standardized_X_train: mean: 14.969907766359546, std: 2.9612389216884285\n",
            "no standardized_X_val: mean: 15.16449538504321, std: 2.8502046251197304\n",
            "no standardized_X_test: mean: 14.683281575200025, std: 2.9209826811134625\n"
          ],
          "name": "stdout"
        }
      ]
    },
    {
      "cell_type": "code",
      "metadata": {
        "id": "zBAu7GkJJwq8",
        "colab_type": "code",
        "outputId": "fa304558-a464-4bb5-a8b4-b9b4af51a62b",
        "colab": {
          "base_uri": "https://localhost:8080/",
          "height": 68
        }
      },
      "source": [
        "# Check\n",
        "print (f\"standardized_X_train: mean: {np.mean(standardized_X_train, axis=0)[0]}, std: {np.std(standardized_X_train, axis=0)[0]}\")\n",
        "print (f\"standardized_X_val: mean: {np.mean(standardized_X_val, axis=0)[0]}, std: {np.std(standardized_X_val, axis=0)[0]}\")\n",
        "print (f\"standardized_X_test: mean: {np.mean(standardized_X_test, axis=0)[0]}, std: {np.std(standardized_X_test, axis=0)[0]}\")"
      ],
      "execution_count": 0,
      "outputs": [
        {
          "output_type": "stream",
          "text": [
            "standardized_X_train: mean: 3.938600753633857e-15, std: 0.9999999999999998\n",
            "standardized_X_val: mean: 0.06571155649025341, std: 0.9625041074006321\n",
            "standardized_X_test: mean: -0.09679265967370689, std: 0.9864056087200104\n"
          ],
          "name": "stdout"
        }
      ]
    },
    {
      "cell_type": "markdown",
      "metadata": {
        "id": "CYH7kRTd9WoJ",
        "colab_type": "text"
      },
      "source": [
        "# From scratch\n",
        "\n",
        "Before we use TensorFlow 2.0 + Keras we will implent logistic regression from scratch using NumPy so we can:\n",
        "1. Absorb the fundamental concepts by implementing from scratch\n",
        "2. Appreciate the level of abstraction TensorFlow provides\n",
        "\n",
        "<div align=\"left\">\n",
        "<img src=\"https://raw.githubusercontent.com/practicalAI/images/master/images/lightbulb.gif\" width=\"45px\" align=\"left\" hspace=\"10px\">\n",
        "</div>\n",
        "\n",
        "It's normal to find the math and code in this section slightly complex. You can still read each of the steps to build intuition for when we implement this using TensorFlow + Keras."
      ]
    },
    {
      "cell_type": "code",
      "metadata": {
        "id": "g7kQ_lBj9c7t",
        "colab_type": "code",
        "outputId": "7209505e-dd65-4cb8-df56-90f35141e942",
        "colab": {
          "base_uri": "https://localhost:8080/",
          "height": 51
        }
      },
      "source": [
        "print (f\"X: {standardized_X_train.shape}\")\n",
        "print (f\"y: {y_train.shape}\")"
      ],
      "execution_count": 0,
      "outputs": [
        {
          "output_type": "stream",
          "text": [
            "X: (722, 2)\n",
            "y: (722,)\n"
          ],
          "name": "stdout"
        }
      ]
    },
    {
      "cell_type": "markdown",
      "metadata": {
        "id": "Y-gUbD71-yiX",
        "colab_type": "text"
      },
      "source": [
        "Our goal is to learn a logistic model $\\hat{y}$ that models $y$ given $X$. \n",
        "\n",
        "$ \\hat{y} = \\frac{e^{XW_y}}{\\sum e^{XW}} $ \n",
        "* $\\hat{y}$ = prediction | $\\in \\mathbb{R}^{NX1}$ ($N$ is the number of samples)\n",
        "* $X$ = inputs | $\\in \\mathbb{R}^{NXD}$ ($D$ is the number of features)\n",
        "* $W$ = weights | $\\in \\mathbb{R}^{DXC}$ ($C$ is the number of classes)"
      ]
    },
    {
      "cell_type": "markdown",
      "metadata": {
        "id": "6wcc5lbdH_Hi",
        "colab_type": "text"
      },
      "source": [
        "We are going to use multinomial logistic regression even though our task only involves two classes because you can generalize the softmax classifier to any number of classes."
      ]
    },
    {
      "cell_type": "markdown",
      "metadata": {
        "id": "o-Os5f8mad5_",
        "colab_type": "text"
      },
      "source": [
        "1. Randomly initialize the model's weights $W$."
      ]
    },
    {
      "cell_type": "code",
      "metadata": {
        "id": "tOBVIhqvVmqz",
        "colab_type": "code",
        "outputId": "96ca783f-bf57-4907-e1ea-f1d8ccb795b7",
        "colab": {
          "base_uri": "https://localhost:8080/",
          "height": 34
        }
      },
      "source": [
        "(INPUT_DIM, NUM_CLASSES)"
      ],
      "execution_count": 0,
      "outputs": [
        {
          "output_type": "execute_result",
          "data": {
            "text/plain": [
              "(2, 2)"
            ]
          },
          "metadata": {
            "tags": []
          },
          "execution_count": 30
        }
      ]
    },
    {
      "cell_type": "code",
      "metadata": {
        "id": "_ohe70WeVq9y",
        "colab_type": "code",
        "outputId": "dd716c27-3fdd-4899-ccab-011618f3de9d",
        "colab": {
          "base_uri": "https://localhost:8080/",
          "height": 51
        }
      },
      "source": [
        "np.random.randn(INPUT_DIM, NUM_CLASSES)"
      ],
      "execution_count": 0,
      "outputs": [
        {
          "output_type": "execute_result",
          "data": {
            "text/plain": [
              "array([[ 1.84436846,  0.92369885],\n",
              "       [-0.64695783, -2.51323773]])"
            ]
          },
          "metadata": {
            "tags": []
          },
          "execution_count": 31
        }
      ]
    },
    {
      "cell_type": "code",
      "metadata": {
        "id": "mFOj00EUV2H0",
        "colab_type": "code",
        "outputId": "f2912feb-9b30-4f8f-d080-9ba06240af60",
        "colab": {
          "base_uri": "https://localhost:8080/",
          "height": 51
        }
      },
      "source": [
        "0.01 * np.random.randn(INPUT_DIM, NUM_CLASSES)"
      ],
      "execution_count": 0,
      "outputs": [
        {
          "output_type": "execute_result",
          "data": {
            "text/plain": [
              "array([[ 0.02325835,  0.00146962],\n",
              "       [-0.00513183, -0.00126859]])"
            ]
          },
          "metadata": {
            "tags": []
          },
          "execution_count": 32
        }
      ]
    },
    {
      "cell_type": "code",
      "metadata": {
        "id": "6x4heep29c_F",
        "colab_type": "code",
        "outputId": "2009c070-e55a-48c5-8d2c-b7f049b91211",
        "colab": {
          "base_uri": "https://localhost:8080/",
          "height": 51
        }
      },
      "source": [
        "# Initialize random weights\n",
        "W = 0.01 * np.random.randn(INPUT_DIM, NUM_CLASSES)\n",
        "b = np.zeros((1, NUM_CLASSES))\n",
        "print (f\"W: {W.shape}\")\n",
        "print (f\"b: {b.shape}\")"
      ],
      "execution_count": 0,
      "outputs": [
        {
          "output_type": "stream",
          "text": [
            "W: (2, 2)\n",
            "b: (1, 2)\n"
          ],
          "name": "stdout"
        }
      ]
    },
    {
      "cell_type": "markdown",
      "metadata": {
        "id": "7Fh8YOJjae28",
        "colab_type": "text"
      },
      "source": [
        "2. Feed inputs $X$ into the model to receive the logits ($z=XW$). Apply the softmax operation on the logits to get the class probabilies $\\hat{y}$ in one-hot encoded form. For example, if there are three classes, the predicted class probabilities could look like [0.3, 0.3, 0.4]. \n",
        "  * $ \\hat{y} = softmax(z) = softmax(XW) = \\frac{e^{XW_y}}{\\sum_j e^{XW}} $"
      ]
    },
    {
      "cell_type": "code",
      "metadata": {
        "id": "EXQkZOwW-otw",
        "colab_type": "code",
        "outputId": "4492b0a5-1231-4df1-ecb6-aee5909b3b49",
        "colab": {
          "base_uri": "https://localhost:8080/",
          "height": 51
        }
      },
      "source": [
        "# Forward pass [NX2] · [2X2] + [1,2] = [NX2]\n",
        "logits = np.dot(standardized_X_train, W) + b\n",
        "print (f\"logits: {logits.shape}\")\n",
        "print (f\"sample: {logits[0]}\")"
      ],
      "execution_count": 0,
      "outputs": [
        {
          "output_type": "stream",
          "text": [
            "logits: (722, 2)\n",
            "sample: [0.0048956  0.00839062]\n"
          ],
          "name": "stdout"
        }
      ]
    },
    {
      "cell_type": "code",
      "metadata": {
        "id": "Ak9FfYIJ-ozJ",
        "colab_type": "code",
        "outputId": "4fb39be7-4548-4ff9-f173-78acb9801170",
        "colab": {
          "base_uri": "https://localhost:8080/",
          "height": 51
        }
      },
      "source": [
        "# Normalization via softmax to obtain class probabilities\n",
        "exp_logits = np.exp(logits)\n",
        "y_hat = exp_logits / np.sum(exp_logits, axis=1, keepdims=True)\n",
        "print (f\"y_hat: {y_hat.shape}\")\n",
        "print (f\"sample: {y_hat[0]}\")"
      ],
      "execution_count": 0,
      "outputs": [
        {
          "output_type": "stream",
          "text": [
            "y_hat: (722, 2)\n",
            "sample: [0.49912625 0.50087375]\n"
          ],
          "name": "stdout"
        }
      ]
    },
    {
      "cell_type": "markdown",
      "metadata": {
        "id": "VxxORg12amXv",
        "colab_type": "text"
      },
      "source": [
        " 3. Compare the predictions $\\hat{y}$ (ex.  [0.3, 0.3, 0.4]]) with the actual target values $y$ (ex. class 2 would look like [0, 0, 1]) with the objective (cost) function to determine loss $J$. A common objective function for logistics regression is cross-entropy loss. \n",
        "\n",
        "  * $J(\\theta) = - \\sum_i ln(\\hat{y_i}) = - \\sum_i ln (\\frac{e^{X_iW_y}}{\\sum_j e^{X_iW}}) $"
      ]
    },
    {
      "cell_type": "code",
      "metadata": {
        "id": "uJtp-XEiXHPD",
        "colab_type": "code",
        "outputId": "528e1a25-7469-4bd9-b320-8bbd1274c0ec",
        "colab": {
          "base_uri": "https://localhost:8080/",
          "height": 34
        }
      },
      "source": [
        "range(len(y_hat)),len(y_hat)"
      ],
      "execution_count": 0,
      "outputs": [
        {
          "output_type": "execute_result",
          "data": {
            "text/plain": [
              "(range(0, 722), 722)"
            ]
          },
          "metadata": {
            "tags": []
          },
          "execution_count": 38
        }
      ]
    },
    {
      "cell_type": "code",
      "metadata": {
        "id": "_dfuMmW2Y01f",
        "colab_type": "code",
        "outputId": "909bc5a2-5d13-4ed8-ef16-94423a9a9781",
        "colab": {
          "base_uri": "https://localhost:8080/",
          "height": 34
        }
      },
      "source": [
        "# Loss\n",
        "correct_class_logprobs = -np.log(y_hat[range(len(y_hat)), y_train])\n",
        "loss = np.sum(correct_class_logprobs) / len(y_train)\n",
        "print (f\"loss: {loss:.2f}\")"
      ],
      "execution_count": 0,
      "outputs": [
        {
          "output_type": "stream",
          "text": [
            "loss: 0.70\n"
          ],
          "name": "stdout"
        }
      ]
    },
    {
      "cell_type": "markdown",
      "metadata": {
        "id": "g9nWUa-3b2lw",
        "colab_type": "text"
      },
      "source": [
        "4. Calculate the gradient of loss $J(\\theta)$ w.r.t to the model weights. Let's assume that our classes are mutually exclusive (a set of inputs could only belong to one class).\n",
        " * $\\frac{\\partial{J}}{\\partial{W_j}} = \\frac{\\partial{J}}{\\partial{\\hat{y}}}\\frac{\\partial{\\hat{y}}}{\\partial{W_j}} = - \\frac{1}{\\hat{y}}\\frac{\\partial{\\hat{y}}}{\\partial{W_j}} = - \\frac{1}{\\frac{e^{XW_y}}{\\sum_j e^{XW}}}\\frac{\\sum_j e^{XW}e^{XW_y}0 - e^{XW_y}e^{XW_j}X}{(\\sum_j e^{XW})^2} = \\frac{Xe^{XW_j}}{\\sum_j e^{XW}} = X\\hat{y}$\n",
        "  * $\\frac{\\partial{J}}{\\partial{W_y}} = \\frac{\\partial{J}}{\\partial{\\hat{y}}}\\frac{\\partial{\\hat{y}}}{\\partial{W_y}} = - \\frac{1}{\\hat{y}}\\frac{\\partial{\\hat{y}}}{\\partial{W_y}} = - \\frac{1}{\\frac{e^{XW_y}}{\\sum_j e^{XW}}}\\frac{\\sum_j e^{XW}e^{XW_y}X - e^{W_yX}e^{XW_y}X}{(\\sum_j e^{XW})^2} = \\frac{1}{\\hat{y}}(X\\hat{y} - X\\hat{y}^2) = X(\\hat{y}-1)$"
      ]
    },
    {
      "cell_type": "code",
      "metadata": {
        "id": "9_-LGJWwZqhW",
        "colab_type": "code",
        "colab": {}
      },
      "source": [
        "# Backpropagation\n",
        "dscores = y_hat\n",
        "dscores[range(len(y_hat)), y_train] -= 1\n",
        "dscores /= len(y_train)\n",
        "dW = np.dot(standardized_X_train.T, dscores)\n",
        "db = np.sum(dscores, axis=0, keepdims=True)"
      ],
      "execution_count": 0,
      "outputs": []
    },
    {
      "cell_type": "markdown",
      "metadata": {
        "id": "QaOhLrqib7t9",
        "colab_type": "text"
      },
      "source": [
        "5. Update the weights  𝑊  using a small learning rate  𝛼. The updates will penalize the probabiltiy for the incorrect classes (j) and encourage a higher probability for the correct class (y).\n",
        "  * $W_j = W_j - \\alpha\\frac{\\partial{J}}{\\partial{W_j}}$"
      ]
    },
    {
      "cell_type": "code",
      "metadata": {
        "id": "qy6LjHNPZqe1",
        "colab_type": "code",
        "colab": {}
      },
      "source": [
        "# Update weights\n",
        "W += -LEARNING_RATE * dW\n",
        "b += -LEARNING_RATE * db"
      ],
      "execution_count": 0,
      "outputs": []
    },
    {
      "cell_type": "markdown",
      "metadata": {
        "id": "AFjnVvCqb_Kk",
        "colab_type": "text"
      },
      "source": [
        "6. Repeat steps 2 - 5 to minimize the loss and train the model."
      ]
    },
    {
      "cell_type": "code",
      "metadata": {
        "id": "S4IuARX8Xl97",
        "colab_type": "code",
        "outputId": "b3d997c8-d19f-4923-d078-54fb2eb82fc4",
        "colab": {
          "base_uri": "https://localhost:8080/",
          "height": 34
        }
      },
      "source": [
        "NUM_EPOCHS,range(NUM_EPOCHS)"
      ],
      "execution_count": 0,
      "outputs": [
        {
          "output_type": "execute_result",
          "data": {
            "text/plain": [
              "(100, range(0, 100))"
            ]
          },
          "metadata": {
            "tags": []
          },
          "execution_count": 41
        }
      ]
    },
    {
      "cell_type": "markdown",
      "metadata": {
        "id": "pn0-44swX9X8",
        "colab_type": "text"
      },
      "source": [
        "# below is the training process  with 100 Epochs\n",
        "# also showing the loss and accuracy for each 10 epochs"
      ]
    },
    {
      "cell_type": "code",
      "metadata": {
        "id": "jzXXprnzX5k2",
        "colab_type": "code",
        "outputId": "9e7a9748-a7da-45c3-e624-a1e4caea8adb",
        "colab": {
          "base_uri": "https://localhost:8080/",
          "height": 187
        }
      },
      "source": [
        "# Initialize random weights\n",
        "W = 0.01 * np.random.randn(INPUT_DIM, NUM_CLASSES)\n",
        "b = np.zeros((1, NUM_CLASSES))\n",
        "\n",
        "# Training loop\n",
        "for epoch_num in range(NUM_EPOCHS):\n",
        "\n",
        "    # Forward pass [NX2] · [2X2] = [NX2]\n",
        "    logits = np.dot(standardized_X_train, W) + b\n",
        "    \n",
        "    # Normalization via softmax to obtain class probabilities\n",
        "    exp_logits = np.exp(logits)\n",
        "    y_hat = exp_logits / np.sum(exp_logits, axis=1, keepdims=True)\n",
        "\n",
        "    # Loss\n",
        "    correct_class_logprobs = -np.log(y_hat[range(len(y_hat)), y_train])\n",
        "    loss = np.sum(correct_class_logprobs) / len(y_train)\n",
        "\n",
        "    # show progress\n",
        "    if epoch_num%10 == 0:\n",
        "        # Accuracy\n",
        "        y_pred = np.argmax(logits, axis=1)\n",
        "        accuracy =  np.mean(np.equal(y_train, y_pred))\n",
        "        print (f\"Epoch: {epoch_num}, loss: {loss:.3f}, accuracy: {accuracy:.3f}\")\n",
        "\n",
        "    # Backpropagation\n",
        "    dscores = y_hat\n",
        "    dscores[range(len(y_hat)), y_train] -= 1\n",
        "    dscores /= len(y_train)\n",
        "    dW = np.dot(standardized_X_train.T, dscores)\n",
        "    db = np.sum(dscores, axis=0, keepdims=True)\n",
        "\n",
        "    # Update weights\n",
        "    W += -LEARNING_RATE * dW\n",
        "    b += -LEARNING_RATE * db"
      ],
      "execution_count": 0,
      "outputs": [
        {
          "output_type": "stream",
          "text": [
            "Epoch: 0, loss: 0.700, accuracy: 0.233\n",
            "Epoch: 10, loss: 0.453, accuracy: 0.976\n",
            "Epoch: 20, loss: 0.351, accuracy: 0.976\n",
            "Epoch: 30, loss: 0.296, accuracy: 0.981\n",
            "Epoch: 40, loss: 0.261, accuracy: 0.981\n",
            "Epoch: 50, loss: 0.236, accuracy: 0.981\n",
            "Epoch: 60, loss: 0.218, accuracy: 0.981\n",
            "Epoch: 70, loss: 0.203, accuracy: 0.981\n",
            "Epoch: 80, loss: 0.191, accuracy: 0.981\n",
            "Epoch: 90, loss: 0.181, accuracy: 0.981\n"
          ],
          "name": "stdout"
        }
      ]
    },
    {
      "cell_type": "code",
      "metadata": {
        "id": "0XfTUwJzYesi",
        "colab_type": "code",
        "outputId": "351aea87-9575-49dc-b169-44b8b4c820a6",
        "colab": {
          "base_uri": "https://localhost:8080/",
          "height": 527
        }
      },
      "source": [
        "# Initialize random weights\n",
        "W = 0.01 * np.random.randn(INPUT_DIM, NUM_CLASSES)\n",
        "b = np.zeros((1, NUM_CLASSES))\n",
        "\n",
        "# Training loop\n",
        "for epoch_num in range(300):\n",
        "\n",
        "    # Forward pass [NX2] · [2X2] = [NX2]\n",
        "    logits = np.dot(standardized_X_train, W) + b\n",
        "    \n",
        "    # Normalization via softmax to obtain class probabilities\n",
        "    exp_logits = np.exp(logits)\n",
        "    y_hat = exp_logits / np.sum(exp_logits, axis=1, keepdims=True)\n",
        "\n",
        "    # Loss\n",
        "    correct_class_logprobs = -np.log(y_hat[range(len(y_hat)), y_train])\n",
        "    loss = np.sum(correct_class_logprobs) / len(y_train)\n",
        "\n",
        "    # show progress\n",
        "    if epoch_num%10 == 0:\n",
        "        # Accuracy\n",
        "        y_pred = np.argmax(logits, axis=1)\n",
        "        accuracy =  np.mean(np.equal(y_train, y_pred))\n",
        "        print (f\"Epoch: {epoch_num}, loss: {loss:.3f}, accuracy: {accuracy:.3f}\")\n",
        "\n",
        "    # Backpropagation\n",
        "    dscores = y_hat\n",
        "    dscores[range(len(y_hat)), y_train] -= 1\n",
        "    dscores /= len(y_train)\n",
        "    dW = np.dot(standardized_X_train.T, dscores)\n",
        "    db = np.sum(dscores, axis=0, keepdims=True)\n",
        "\n",
        "    # Update weights\n",
        "    W += -LEARNING_RATE * dW\n",
        "    b += -LEARNING_RATE * db"
      ],
      "execution_count": 0,
      "outputs": [
        {
          "output_type": "stream",
          "text": [
            "Epoch: 0, loss: 0.695, accuracy: 0.375\n",
            "Epoch: 10, loss: 0.451, accuracy: 0.976\n",
            "Epoch: 20, loss: 0.350, accuracy: 0.978\n",
            "Epoch: 30, loss: 0.296, accuracy: 0.981\n",
            "Epoch: 40, loss: 0.261, accuracy: 0.981\n",
            "Epoch: 50, loss: 0.236, accuracy: 0.981\n",
            "Epoch: 60, loss: 0.218, accuracy: 0.981\n",
            "Epoch: 70, loss: 0.203, accuracy: 0.981\n",
            "Epoch: 80, loss: 0.191, accuracy: 0.981\n",
            "Epoch: 90, loss: 0.181, accuracy: 0.981\n",
            "Epoch: 100, loss: 0.173, accuracy: 0.982\n",
            "Epoch: 110, loss: 0.166, accuracy: 0.982\n",
            "Epoch: 120, loss: 0.159, accuracy: 0.982\n",
            "Epoch: 130, loss: 0.154, accuracy: 0.983\n",
            "Epoch: 140, loss: 0.149, accuracy: 0.983\n",
            "Epoch: 150, loss: 0.144, accuracy: 0.983\n",
            "Epoch: 160, loss: 0.140, accuracy: 0.983\n",
            "Epoch: 170, loss: 0.136, accuracy: 0.983\n",
            "Epoch: 180, loss: 0.133, accuracy: 0.985\n",
            "Epoch: 190, loss: 0.130, accuracy: 0.985\n",
            "Epoch: 200, loss: 0.127, accuracy: 0.985\n",
            "Epoch: 210, loss: 0.124, accuracy: 0.985\n",
            "Epoch: 220, loss: 0.122, accuracy: 0.985\n",
            "Epoch: 230, loss: 0.120, accuracy: 0.985\n",
            "Epoch: 240, loss: 0.117, accuracy: 0.985\n",
            "Epoch: 250, loss: 0.115, accuracy: 0.985\n",
            "Epoch: 260, loss: 0.113, accuracy: 0.985\n",
            "Epoch: 270, loss: 0.111, accuracy: 0.985\n",
            "Epoch: 280, loss: 0.110, accuracy: 0.985\n",
            "Epoch: 290, loss: 0.108, accuracy: 0.986\n"
          ],
          "name": "stdout"
        }
      ]
    },
    {
      "cell_type": "code",
      "metadata": {
        "id": "vCipe3EhZqbl",
        "colab_type": "code",
        "outputId": "c68d130c-3862-4427-f14c-6572a7aee700",
        "colab": {
          "base_uri": "https://localhost:8080/",
          "height": 187
        }
      },
      "source": [
        "# Initialize random weights\n",
        "W = 0.01 * np.random.randn(INPUT_DIM, NUM_CLASSES)\n",
        "b = np.zeros((1, NUM_CLASSES))\n",
        "\n",
        "# Training loop\n",
        "for epoch_num in range(NUM_EPOCHS):\n",
        "\n",
        "    # Forward pass [NX2] · [2X2] = [NX2]\n",
        "    logits = np.dot(standardized_X_train, W) + b\n",
        "    \n",
        "    # Normalization via softmax to obtain class probabilities\n",
        "    exp_logits = np.exp(logits)\n",
        "    y_hat = exp_logits / np.sum(exp_logits, axis=1, keepdims=True)\n",
        "\n",
        "    # Loss\n",
        "    correct_class_logprobs = -np.log(y_hat[range(len(y_hat)), y_train])\n",
        "    loss = np.sum(correct_class_logprobs) / len(y_train)\n",
        "\n",
        "    # show progress\n",
        "    if epoch_num%10 == 0:\n",
        "        # Accuracy\n",
        "        y_pred = np.argmax(logits, axis=1)\n",
        "        accuracy =  np.mean(np.equal(y_train, y_pred))\n",
        "        print (f\"Epoch: {epoch_num}, loss: {loss:.3f}, accuracy: {accuracy:.3f}\")\n",
        "\n",
        "    # Backpropagation\n",
        "    dscores = y_hat\n",
        "    dscores[range(len(y_hat)), y_train] -= 1\n",
        "    dscores /= len(y_train)\n",
        "    dW = np.dot(standardized_X_train.T, dscores)\n",
        "    db = np.sum(dscores, axis=0, keepdims=True)\n",
        "\n",
        "    # Update weights\n",
        "    W += -LEARNING_RATE * dW\n",
        "    b += -LEARNING_RATE * db"
      ],
      "execution_count": 0,
      "outputs": [
        {
          "output_type": "stream",
          "text": [
            "Epoch: 0, loss: 0.684, accuracy: 0.889\n",
            "Epoch: 10, loss: 0.447, accuracy: 0.978\n",
            "Epoch: 20, loss: 0.348, accuracy: 0.978\n",
            "Epoch: 30, loss: 0.295, accuracy: 0.981\n",
            "Epoch: 40, loss: 0.260, accuracy: 0.981\n",
            "Epoch: 50, loss: 0.236, accuracy: 0.981\n",
            "Epoch: 60, loss: 0.217, accuracy: 0.981\n",
            "Epoch: 70, loss: 0.203, accuracy: 0.981\n",
            "Epoch: 80, loss: 0.191, accuracy: 0.981\n",
            "Epoch: 90, loss: 0.181, accuracy: 0.981\n"
          ],
          "name": "stdout"
        }
      ]
    },
    {
      "cell_type": "markdown",
      "metadata": {
        "id": "2zHB-mHA1-Uh",
        "colab_type": "text"
      },
      "source": [
        "Since we're taking the argmax, we can just calculate logits since normalization won't change which index has the higher value. "
      ]
    },
    {
      "cell_type": "code",
      "metadata": {
        "id": "TpE3oDpIhhBH",
        "colab_type": "code",
        "colab": {}
      },
      "source": [
        "class LogisticRegressionFromScratch():\n",
        "    def predict(self, x):\n",
        "        logits = np.dot(x, W) + b\n",
        "        exp_logits = np.exp(logits)\n",
        "        y_hat = exp_logits / np.sum(exp_logits, axis=1, keepdims=True)\n",
        "        return y_hat"
      ],
      "execution_count": 0,
      "outputs": []
    },
    {
      "cell_type": "code",
      "metadata": {
        "id": "-6T8rm1bw_Sw",
        "colab_type": "code",
        "colab": {}
      },
      "source": [
        "# Evaluation\n",
        "model = LogisticRegressionFromScratch()\n",
        "logits_train = model.predict(standardized_X_train)\n",
        "pred_train = np.argmax(logits_train, axis=1)\n",
        "logits_test = model.predict(standardized_X_test)\n",
        "pred_test = np.argmax(logits_test, axis=1)"
      ],
      "execution_count": 0,
      "outputs": []
    },
    {
      "cell_type": "code",
      "metadata": {
        "id": "Smy3DxJazGFm",
        "colab_type": "code",
        "outputId": "923d378d-79a4-4a67-99e3-352edad62f16",
        "colab": {
          "base_uri": "https://localhost:8080/",
          "height": 34
        }
      },
      "source": [
        "# Training and test accuracy\n",
        "train_acc =  np.mean(np.equal(y_train, pred_train))\n",
        "test_acc = np.mean(np.equal(y_test, pred_test))\n",
        "print (f\"train acc: {train_acc:.2f}, test acc: {test_acc:.2f}\")"
      ],
      "execution_count": 0,
      "outputs": [
        {
          "output_type": "stream",
          "text": [
            "train acc: 0.99, test acc: 0.95\n"
          ],
          "name": "stdout"
        }
      ]
    },
    {
      "cell_type": "code",
      "metadata": {
        "id": "Cv-Dxp4AxeWh",
        "colab_type": "code",
        "colab": {}
      },
      "source": [
        "def plot_multiclass_decision_boundary(model, X, y, savefig_fp=None):\n",
        "    \"\"\"Plot the multiclass decision boundary for a model that accepts 2D inputs.\n",
        "\n",
        "    Arguments:\n",
        "        model {function} -- trained model with function model.predict(x_in).\n",
        "        X {numpy.ndarray} -- 2D inputs with shape (N, 2).\n",
        "        y {numpy.ndarray} -- 1D outputs with shape (N,).\n",
        "    \"\"\"\n",
        "    # Axis boundaries\n",
        "    x_min, x_max = X[:, 0].min() - 0.1, X[:, 0].max() + 0.1\n",
        "    y_min, y_max = X[:, 1].min() - 0.1, X[:, 1].max() + 0.1\n",
        "    xx, yy = np.meshgrid(np.linspace(x_min, x_max, 101),\n",
        "                         np.linspace(y_min, y_max, 101))\n",
        "\n",
        "    # Create predictions\n",
        "    x_in = np.c_[xx.ravel(), yy.ravel()]\n",
        "    y_pred = model.predict(x_in)\n",
        "    y_pred = np.argmax(y_pred, axis=1).reshape(xx.shape)\n",
        "\n",
        "    # Plot decision boundary\n",
        "    plt.contourf(xx, yy, y_pred, cmap=plt.cm.Spectral, alpha=0.8)\n",
        "    plt.scatter(X[:, 0], X[:, 1], c=y, s=40, cmap=plt.cm.RdYlBu)\n",
        "    plt.xlim(xx.min(), xx.max())\n",
        "    plt.ylim(yy.min(), yy.max())\n",
        "\n",
        "    # Plot\n",
        "    if savefig_fp:\n",
        "        plt.savefig(savefig_fp, format='png')"
      ],
      "execution_count": 0,
      "outputs": []
    },
    {
      "cell_type": "code",
      "metadata": {
        "id": "Z7RorJHHxfW7",
        "colab_type": "code",
        "outputId": "10f7e03f-d320-4b4a-c679-98126b61fb13",
        "colab": {
          "base_uri": "https://localhost:8080/",
          "height": 336
        }
      },
      "source": [
        "# Visualize the decision boundary\n",
        "plt.figure(figsize=(12,5))\n",
        "plt.subplot(1, 2, 1)\n",
        "plt.title(\"Train\")\n",
        "plot_multiclass_decision_boundary(model=model, X=standardized_X_train, y=y_train)\n",
        "plt.subplot(1, 2, 2)\n",
        "plt.title(\"Test\")\n",
        "plot_multiclass_decision_boundary(model=model, X=standardized_X_test, y=y_test)\n",
        "plt.show()"
      ],
      "execution_count": 0,
      "outputs": [
        {
          "output_type": "display_data",
          "data": {
            "image/png": "[encoded data removed]",
            "text/plain": [
              "<Figure size 864x360 with 2 Axes>"
            ]
          },
          "metadata": {
            "tags": []
          }
        }
      ]
    },
    {
      "cell_type": "code",
      "metadata": {
        "id": "ZdtsVVGoZZt8",
        "colab_type": "code",
        "outputId": "99a52589-5871-4e38-dab8-25d922158b6b",
        "colab": {
          "base_uri": "https://localhost:8080/",
          "height": 336
        }
      },
      "source": [
        "# Visualize the decision boundary\n",
        "plt.figure(figsize=(12,5))\n",
        "plt.subplot(1, 2, 1)\n",
        "plt.title(\"Train\")\n",
        "plot_multiclass_decision_boundary(model=model, X=standardized_X_train, y=y_train)\n",
        "plt.subplot(1, 2, 2)\n",
        "plt.title(\"Test\")\n",
        "plot_multiclass_decision_boundary(model=model, X=standardized_X_test, y=y_test)\n",
        "plt.show()"
      ],
      "execution_count": 0,
      "outputs": [
        {
          "output_type": "display_data",
          "data": {
            "image/png": "[encoded data removed]",
            "text/plain": [
              "<Figure size 864x360 with 2 Axes>"
            ]
          },
          "metadata": {
            "tags": []
          }
        }
      ]
    },
    {
      "cell_type": "markdown",
      "metadata": {
        "id": "QW5piG-XCz1N",
        "colab_type": "text"
      },
      "source": [
        "Credit for the plotting functions and the intuition behind all this is due to [CS231n](http://cs231n.github.io/neural-networks-case-study/), one of the best courses for machine learning. Now let's implement logistic regression with TensorFlow + Keras."
      ]
    },
    {
      "cell_type": "markdown",
      "metadata": {
        "id": "7Cy3efR7s7HD",
        "colab_type": "text"
      },
      "source": [
        "# TensorFlow + Keras"
      ]
    },
    {
      "cell_type": "markdown",
      "metadata": {
        "id": "CuGUAtHkyFBv",
        "colab_type": "text"
      },
      "source": [
        "We will be using [Dense](https://www.tensorflow.org/versions/r2.0/api_docs/python/tf/keras/layers/Dense) layers to recreate the same model and use [SparseCategoricalCrossentropy](https://www.tensorflow.org/versions/r2.0/api_docs/python/tf/keras/losses/SparseCategoricalCrossentropy) as our loss function."
      ]
    },
    {
      "cell_type": "code",
      "metadata": {
        "id": "7-vm9AZm1_f9",
        "colab_type": "code",
        "colab": {}
      },
      "source": [
        "from tensorflow.keras.layers import Dense\n",
        "from tensorflow.keras.layers import Input\n",
        "from tensorflow.keras.losses import SparseCategoricalCrossentropy\n",
        "from tensorflow.keras.models import Model\n",
        "from tensorflow.keras.optimizers import Adam"
      ],
      "execution_count": 0,
      "outputs": []
    },
    {
      "cell_type": "code",
      "metadata": {
        "id": "iII1ljErs2dL",
        "colab_type": "code",
        "colab": {}
      },
      "source": [
        "# Logistic regression\n",
        "class LogisticRegression(Model):\n",
        "    def __init__(self, num_classes):\n",
        "        super(LogisticRegression, self).__init__()\n",
        "        self.fc1 = Dense(units=num_classes, activation='softmax')\n",
        "        \n",
        "    def call(self, x_in, training=False):\n",
        "        \"\"\"Forward pass.\"\"\"\n",
        "        y_pred = self.fc1(x_in)\n",
        "        return y_pred\n",
        "    \n",
        "    def sample(self, input_shape):\n",
        "        x_in = Input(shape=input_shape)\n",
        "        return Model(inputs=x_in, outputs=self.call(x_in)).summary()"
      ],
      "execution_count": 0,
      "outputs": []
    },
    {
      "cell_type": "code",
      "metadata": {
        "id": "ys2BDrKNaJhS",
        "colab_type": "code",
        "outputId": "06e79592-b2a2-4ea8-9918-2e567bba8c96",
        "colab": {
          "base_uri": "https://localhost:8080/",
          "height": 221
        }
      },
      "source": [
        "# Initialize the model\n",
        "model = LogisticRegression(num_classes=NUM_CLASSES)\n",
        "model.sample(input_shape=(INPUT_DIM,))"
      ],
      "execution_count": 0,
      "outputs": [
        {
          "output_type": "stream",
          "text": [
            "Model: \"model\"\n",
            "_________________________________________________________________\n",
            "Layer (type)                 Output Shape              Param #   \n",
            "=================================================================\n",
            "input_1 (InputLayer)         [(None, 2)]               0         \n",
            "_________________________________________________________________\n",
            "dense (Dense)                (None, 2)                 6         \n",
            "=================================================================\n",
            "Total params: 6\n",
            "Trainable params: 6\n",
            "Non-trainable params: 0\n",
            "_________________________________________________________________\n"
          ],
          "name": "stdout"
        }
      ]
    },
    {
      "cell_type": "code",
      "metadata": {
        "id": "0e8U9NNluYVp",
        "colab_type": "code",
        "outputId": "7babcfbb-9251-4864-ee3e-ba570e8fd9c6",
        "colab": {
          "base_uri": "https://localhost:8080/",
          "height": 221
        }
      },
      "source": [
        "# Initialize the model\n",
        "model = LogisticRegression(num_classes=NUM_CLASSES)\n",
        "model.sample(input_shape=(INPUT_DIM,))"
      ],
      "execution_count": 0,
      "outputs": [
        {
          "output_type": "stream",
          "text": [
            "Model: \"model\"\n",
            "_________________________________________________________________\n",
            "Layer (type)                 Output Shape              Param #   \n",
            "=================================================================\n",
            "input_1 (InputLayer)         [(None, 2)]               0         \n",
            "_________________________________________________________________\n",
            "dense (Dense)                (None, 2)                 6         \n",
            "=================================================================\n",
            "Total params: 6\n",
            "Trainable params: 6\n",
            "Non-trainable params: 0\n",
            "_________________________________________________________________\n"
          ],
          "name": "stdout"
        }
      ]
    },
    {
      "cell_type": "code",
      "metadata": {
        "id": "hA7Oz97NAe8A",
        "colab_type": "code",
        "colab": {}
      },
      "source": [
        "# Compile\n",
        "model.compile(optimizer=Adam(lr=LEARNING_RATE),\n",
        "              loss=SparseCategoricalCrossentropy(),\n",
        "              metrics=['accuracy'])"
      ],
      "execution_count": 0,
      "outputs": []
    },
    {
      "cell_type": "code",
      "metadata": {
        "id": "aaOPxcz6ag7W",
        "colab_type": "code",
        "outputId": "d380e648-430c-48da-9939-fc4b3bf1c890",
        "colab": {
          "base_uri": "https://localhost:8080/",
          "height": 1000
        }
      },
      "source": [
        "# Training\n",
        "model.fit(x=standardized_X_train, \n",
        "          y=y_train,\n",
        "          validation_data=(standardized_X_val, y_val),\n",
        "          epochs=NUM_EPOCHS,\n",
        "          batch_size=BATCH_SIZE,\n",
        "          class_weight=class_weights,\n",
        "          shuffle=False,\n",
        "          verbose=1)"
      ],
      "execution_count": 0,
      "outputs": [
        {
          "output_type": "stream",
          "text": [
            "WARNING:tensorflow:sample_weight modes were coerced from\n",
            "  ...\n",
            "    to  \n",
            "  ['...']\n",
            "WARNING:tensorflow:sample_weight modes were coerced from\n",
            "  ...\n",
            "    to  \n",
            "  ['...']\n",
            "Train on 722 samples, validate on 128 samples\n",
            "Epoch 1/100\n",
            "722/722 [==============================] - 1s 1ms/sample - loss: 8.3439e-04 - accuracy: 0.8615 - val_loss: 4.1483e-04 - val_accuracy: 0.9688\n",
            "Epoch 2/100\n",
            "722/722 [==============================] - 0s 65us/sample - loss: 2.5897e-04 - accuracy: 0.9834 - val_loss: 2.8280e-04 - val_accuracy: 0.9766\n",
            "Epoch 3/100\n",
            "722/722 [==============================] - 0s 71us/sample - loss: 1.9570e-04 - accuracy: 0.9861 - val_loss: 2.3468e-04 - val_accuracy: 0.9844\n",
            "Epoch 4/100\n",
            "722/722 [==============================] - 0s 61us/sample - loss: 1.7173e-04 - accuracy: 0.9875 - val_loss: 2.1131e-04 - val_accuracy: 0.9844\n",
            "Epoch 5/100\n",
            "722/722 [==============================] - 0s 66us/sample - loss: 1.5492e-04 - accuracy: 0.9875 - val_loss: 1.9432e-04 - val_accuracy: 0.9844\n",
            "Epoch 6/100\n",
            "722/722 [==============================] - 0s 65us/sample - loss: 1.4234e-04 - accuracy: 0.9889 - val_loss: 1.8063e-04 - val_accuracy: 0.9844\n",
            "Epoch 7/100\n",
            "722/722 [==============================] - 0s 63us/sample - loss: 1.3253e-04 - accuracy: 0.9889 - val_loss: 1.6964e-04 - val_accuracy: 0.9844\n",
            "Epoch 8/100\n",
            "722/722 [==============================] - 0s 64us/sample - loss: 1.2462e-04 - accuracy: 0.9889 - val_loss: 1.6068e-04 - val_accuracy: 0.9844\n",
            "Epoch 9/100\n",
            "722/722 [==============================] - 0s 71us/sample - loss: 1.1810e-04 - accuracy: 0.9889 - val_loss: 1.5321e-04 - val_accuracy: 0.9844\n",
            "Epoch 10/100\n",
            "722/722 [==============================] - 0s 69us/sample - loss: 1.1262e-04 - accuracy: 0.9889 - val_loss: 1.4687e-04 - val_accuracy: 0.9844\n",
            "Epoch 11/100\n",
            "722/722 [==============================] - 0s 66us/sample - loss: 1.0796e-04 - accuracy: 0.9889 - val_loss: 1.4143e-04 - val_accuracy: 0.9844\n",
            "Epoch 12/100\n",
            "722/722 [==============================] - 0s 67us/sample - loss: 1.0394e-04 - accuracy: 0.9889 - val_loss: 1.3671e-04 - val_accuracy: 0.9844\n",
            "Epoch 13/100\n",
            "722/722 [==============================] - 0s 70us/sample - loss: 1.0043e-04 - accuracy: 0.9903 - val_loss: 1.3258e-04 - val_accuracy: 0.9844\n",
            "Epoch 14/100\n",
            "722/722 [==============================] - 0s 68us/sample - loss: 9.7343e-05 - accuracy: 0.9903 - val_loss: 1.2893e-04 - val_accuracy: 0.9844\n",
            "Epoch 15/100\n",
            "722/722 [==============================] - 0s 73us/sample - loss: 9.4607e-05 - accuracy: 0.9903 - val_loss: 1.2568e-04 - val_accuracy: 0.9844\n",
            "Epoch 16/100\n",
            "722/722 [==============================] - 0s 69us/sample - loss: 9.2165e-05 - accuracy: 0.9903 - val_loss: 1.2278e-04 - val_accuracy: 0.9844\n",
            "Epoch 17/100\n",
            "722/722 [==============================] - 0s 83us/sample - loss: 8.9973e-05 - accuracy: 0.9903 - val_loss: 1.2016e-04 - val_accuracy: 0.9844\n",
            "Epoch 18/100\n",
            "722/722 [==============================] - 0s 70us/sample - loss: 8.7994e-05 - accuracy: 0.9903 - val_loss: 1.1780e-04 - val_accuracy: 0.9844\n",
            "Epoch 19/100\n",
            "722/722 [==============================] - 0s 73us/sample - loss: 8.6200e-05 - accuracy: 0.9903 - val_loss: 1.1565e-04 - val_accuracy: 0.9844\n",
            "Epoch 20/100\n",
            "722/722 [==============================] - 0s 68us/sample - loss: 8.4566e-05 - accuracy: 0.9903 - val_loss: 1.1369e-04 - val_accuracy: 0.9844\n",
            "Epoch 21/100\n",
            "722/722 [==============================] - 0s 66us/sample - loss: 8.3072e-05 - accuracy: 0.9903 - val_loss: 1.1190e-04 - val_accuracy: 0.9844\n",
            "Epoch 22/100\n",
            "722/722 [==============================] - 0s 67us/sample - loss: 8.1703e-05 - accuracy: 0.9903 - val_loss: 1.1025e-04 - val_accuracy: 0.9844\n",
            "Epoch 23/100\n",
            "722/722 [==============================] - 0s 66us/sample - loss: 8.0443e-05 - accuracy: 0.9903 - val_loss: 1.0873e-04 - val_accuracy: 0.9844\n",
            "Epoch 24/100\n",
            "722/722 [==============================] - 0s 71us/sample - loss: 7.9280e-05 - accuracy: 0.9903 - val_loss: 1.0732e-04 - val_accuracy: 0.9844\n",
            "Epoch 25/100\n",
            "722/722 [==============================] - 0s 78us/sample - loss: 7.8205e-05 - accuracy: 0.9903 - val_loss: 1.0602e-04 - val_accuracy: 0.9844\n",
            "Epoch 26/100\n",
            "722/722 [==============================] - 0s 64us/sample - loss: 7.7209e-05 - accuracy: 0.9903 - val_loss: 1.0482e-04 - val_accuracy: 0.9844\n",
            "Epoch 27/100\n",
            "722/722 [==============================] - 0s 82us/sample - loss: 7.6283e-05 - accuracy: 0.9917 - val_loss: 1.0369e-04 - val_accuracy: 0.9844\n",
            "Epoch 28/100\n",
            "722/722 [==============================] - 0s 77us/sample - loss: 7.5420e-05 - accuracy: 0.9917 - val_loss: 1.0264e-04 - val_accuracy: 0.9844\n",
            "Epoch 29/100\n",
            "722/722 [==============================] - 0s 67us/sample - loss: 7.4616e-05 - accuracy: 0.9917 - val_loss: 1.0166e-04 - val_accuracy: 0.9844\n",
            "Epoch 30/100\n",
            "722/722 [==============================] - 0s 69us/sample - loss: 7.3865e-05 - accuracy: 0.9917 - val_loss: 1.0074e-04 - val_accuracy: 0.9844\n",
            "Epoch 31/100\n",
            "722/722 [==============================] - 0s 63us/sample - loss: 7.3162e-05 - accuracy: 0.9917 - val_loss: 9.9880e-05 - val_accuracy: 0.9844\n",
            "Epoch 32/100\n",
            "722/722 [==============================] - 0s 78us/sample - loss: 7.2503e-05 - accuracy: 0.9917 - val_loss: 9.9070e-05 - val_accuracy: 0.9844\n",
            "Epoch 33/100\n",
            "722/722 [==============================] - 0s 68us/sample - loss: 7.1885e-05 - accuracy: 0.9917 - val_loss: 9.8309e-05 - val_accuracy: 0.9844\n",
            "Epoch 34/100\n",
            "722/722 [==============================] - 0s 73us/sample - loss: 7.1303e-05 - accuracy: 0.9917 - val_loss: 9.7592e-05 - val_accuracy: 0.9844\n",
            "Epoch 35/100\n",
            "722/722 [==============================] - 0s 68us/sample - loss: 7.0757e-05 - accuracy: 0.9917 - val_loss: 9.6916e-05 - val_accuracy: 0.9844\n",
            "Epoch 36/100\n",
            "722/722 [==============================] - 0s 74us/sample - loss: 7.0242e-05 - accuracy: 0.9917 - val_loss: 9.6277e-05 - val_accuracy: 0.9844\n",
            "Epoch 37/100\n",
            "722/722 [==============================] - 0s 62us/sample - loss: 6.9756e-05 - accuracy: 0.9917 - val_loss: 9.5674e-05 - val_accuracy: 0.9844\n",
            "Epoch 38/100\n",
            "722/722 [==============================] - 0s 60us/sample - loss: 6.9298e-05 - accuracy: 0.9917 - val_loss: 9.5102e-05 - val_accuracy: 0.9844\n",
            "Epoch 39/100\n",
            "722/722 [==============================] - 0s 67us/sample - loss: 6.8865e-05 - accuracy: 0.9917 - val_loss: 9.4561e-05 - val_accuracy: 0.9844\n",
            "Epoch 40/100\n",
            "722/722 [==============================] - 0s 68us/sample - loss: 6.8455e-05 - accuracy: 0.9917 - val_loss: 9.4047e-05 - val_accuracy: 0.9844\n",
            "Epoch 41/100\n",
            "722/722 [==============================] - 0s 73us/sample - loss: 6.8067e-05 - accuracy: 0.9917 - val_loss: 9.3560e-05 - val_accuracy: 0.9844\n",
            "Epoch 42/100\n",
            "722/722 [==============================] - 0s 66us/sample - loss: 6.7700e-05 - accuracy: 0.9917 - val_loss: 9.3097e-05 - val_accuracy: 0.9844\n",
            "Epoch 43/100\n",
            "722/722 [==============================] - 0s 71us/sample - loss: 6.7352e-05 - accuracy: 0.9917 - val_loss: 9.2657e-05 - val_accuracy: 0.9844\n",
            "Epoch 44/100\n",
            "722/722 [==============================] - 0s 81us/sample - loss: 6.7022e-05 - accuracy: 0.9917 - val_loss: 9.2238e-05 - val_accuracy: 0.9844\n",
            "Epoch 45/100\n",
            "722/722 [==============================] - 0s 75us/sample - loss: 6.6709e-05 - accuracy: 0.9917 - val_loss: 9.1839e-05 - val_accuracy: 0.9844\n",
            "Epoch 46/100\n",
            "722/722 [==============================] - 0s 69us/sample - loss: 6.6411e-05 - accuracy: 0.9917 - val_loss: 9.1459e-05 - val_accuracy: 0.9844\n",
            "Epoch 47/100\n",
            "722/722 [==============================] - 0s 69us/sample - loss: 6.6129e-05 - accuracy: 0.9917 - val_loss: 9.1096e-05 - val_accuracy: 0.9844\n",
            "Epoch 48/100\n",
            "722/722 [==============================] - 0s 73us/sample - loss: 6.5860e-05 - accuracy: 0.9917 - val_loss: 9.0750e-05 - val_accuracy: 0.9844\n",
            "Epoch 49/100\n",
            "722/722 [==============================] - 0s 68us/sample - loss: 6.5604e-05 - accuracy: 0.9917 - val_loss: 9.0420e-05 - val_accuracy: 0.9844\n",
            "Epoch 50/100\n",
            "722/722 [==============================] - 0s 69us/sample - loss: 6.5360e-05 - accuracy: 0.9917 - val_loss: 9.0105e-05 - val_accuracy: 0.9844\n",
            "Epoch 51/100\n",
            "722/722 [==============================] - 0s 62us/sample - loss: 6.5129e-05 - accuracy: 0.9917 - val_loss: 8.9803e-05 - val_accuracy: 0.9844\n",
            "Epoch 52/100\n",
            "722/722 [==============================] - 0s 68us/sample - loss: 6.4908e-05 - accuracy: 0.9917 - val_loss: 8.9515e-05 - val_accuracy: 0.9844\n",
            "Epoch 53/100\n",
            "722/722 [==============================] - 0s 68us/sample - loss: 6.4697e-05 - accuracy: 0.9917 - val_loss: 8.9239e-05 - val_accuracy: 0.9844\n",
            "Epoch 54/100\n",
            "722/722 [==============================] - 0s 69us/sample - loss: 6.4496e-05 - accuracy: 0.9917 - val_loss: 8.8975e-05 - val_accuracy: 0.9844\n",
            "Epoch 55/100\n",
            "722/722 [==============================] - 0s 72us/sample - loss: 6.4305e-05 - accuracy: 0.9917 - val_loss: 8.8723e-05 - val_accuracy: 0.9844\n",
            "Epoch 56/100\n",
            "722/722 [==============================] - 0s 72us/sample - loss: 6.4122e-05 - accuracy: 0.9917 - val_loss: 8.8480e-05 - val_accuracy: 0.9844\n",
            "Epoch 57/100\n",
            "722/722 [==============================] - 0s 69us/sample - loss: 6.3947e-05 - accuracy: 0.9917 - val_loss: 8.8248e-05 - val_accuracy: 0.9844\n",
            "Epoch 58/100\n",
            "722/722 [==============================] - 0s 61us/sample - loss: 6.3781e-05 - accuracy: 0.9917 - val_loss: 8.8026e-05 - val_accuracy: 0.9844\n",
            "Epoch 59/100\n",
            "722/722 [==============================] - 0s 62us/sample - loss: 6.3622e-05 - accuracy: 0.9917 - val_loss: 8.7812e-05 - val_accuracy: 0.9844\n",
            "Epoch 60/100\n",
            "722/722 [==============================] - 0s 70us/sample - loss: 6.3469e-05 - accuracy: 0.9917 - val_loss: 8.7607e-05 - val_accuracy: 0.9844\n",
            "Epoch 61/100\n",
            "722/722 [==============================] - 0s 66us/sample - loss: 6.3324e-05 - accuracy: 0.9917 - val_loss: 8.7411e-05 - val_accuracy: 0.9844\n",
            "Epoch 62/100\n",
            "722/722 [==============================] - 0s 65us/sample - loss: 6.3185e-05 - accuracy: 0.9917 - val_loss: 8.7222e-05 - val_accuracy: 0.9844\n",
            "Epoch 63/100\n",
            "722/722 [==============================] - 0s 69us/sample - loss: 6.3052e-05 - accuracy: 0.9917 - val_loss: 8.7041e-05 - val_accuracy: 0.9844\n",
            "Epoch 64/100\n",
            "722/722 [==============================] - 0s 78us/sample - loss: 6.2925e-05 - accuracy: 0.9917 - val_loss: 8.6866e-05 - val_accuracy: 0.9844\n",
            "Epoch 65/100\n",
            "722/722 [==============================] - 0s 71us/sample - loss: 6.2803e-05 - accuracy: 0.9917 - val_loss: 8.6699e-05 - val_accuracy: 0.9844\n",
            "Epoch 66/100\n",
            "722/722 [==============================] - 0s 69us/sample - loss: 6.2687e-05 - accuracy: 0.9917 - val_loss: 8.6538e-05 - val_accuracy: 0.9844\n",
            "Epoch 67/100\n",
            "722/722 [==============================] - 0s 67us/sample - loss: 6.2576e-05 - accuracy: 0.9917 - val_loss: 8.6383e-05 - val_accuracy: 0.9844\n",
            "Epoch 68/100\n",
            "722/722 [==============================] - 0s 70us/sample - loss: 6.2469e-05 - accuracy: 0.9917 - val_loss: 8.6234e-05 - val_accuracy: 0.9844\n",
            "Epoch 69/100\n",
            "722/722 [==============================] - 0s 81us/sample - loss: 6.2367e-05 - accuracy: 0.9917 - val_loss: 8.6091e-05 - val_accuracy: 0.9844\n",
            "Epoch 70/100\n",
            "722/722 [==============================] - 0s 65us/sample - loss: 6.2269e-05 - accuracy: 0.9917 - val_loss: 8.5953e-05 - val_accuracy: 0.9844\n",
            "Epoch 71/100\n",
            "722/722 [==============================] - 0s 64us/sample - loss: 6.2175e-05 - accuracy: 0.9917 - val_loss: 8.5821e-05 - val_accuracy: 0.9844\n",
            "Epoch 72/100\n",
            "722/722 [==============================] - 0s 64us/sample - loss: 6.2085e-05 - accuracy: 0.9917 - val_loss: 8.5693e-05 - val_accuracy: 0.9844\n",
            "Epoch 73/100\n",
            "722/722 [==============================] - 0s 73us/sample - loss: 6.1999e-05 - accuracy: 0.9917 - val_loss: 8.5570e-05 - val_accuracy: 0.9844\n",
            "Epoch 74/100\n",
            "722/722 [==============================] - 0s 74us/sample - loss: 6.1917e-05 - accuracy: 0.9917 - val_loss: 8.5452e-05 - val_accuracy: 0.9844\n",
            "Epoch 75/100\n",
            "722/722 [==============================] - 0s 69us/sample - loss: 6.1838e-05 - accuracy: 0.9917 - val_loss: 8.5338e-05 - val_accuracy: 0.9844\n",
            "Epoch 76/100\n",
            "722/722 [==============================] - 0s 75us/sample - loss: 6.1762e-05 - accuracy: 0.9917 - val_loss: 8.5228e-05 - val_accuracy: 0.9844\n",
            "Epoch 77/100\n",
            "722/722 [==============================] - 0s 70us/sample - loss: 6.1690e-05 - accuracy: 0.9917 - val_loss: 8.5122e-05 - val_accuracy: 0.9844\n",
            "Epoch 78/100\n",
            "722/722 [==============================] - 0s 82us/sample - loss: 6.1620e-05 - accuracy: 0.9917 - val_loss: 8.5020e-05 - val_accuracy: 0.9844\n",
            "Epoch 79/100\n",
            "722/722 [==============================] - 0s 60us/sample - loss: 6.1553e-05 - accuracy: 0.9917 - val_loss: 8.4922e-05 - val_accuracy: 0.9844\n",
            "Epoch 80/100\n",
            "722/722 [==============================] - 0s 69us/sample - loss: 6.1489e-05 - accuracy: 0.9917 - val_loss: 8.4827e-05 - val_accuracy: 0.9844\n",
            "Epoch 81/100\n",
            "722/722 [==============================] - 0s 65us/sample - loss: 6.1428e-05 - accuracy: 0.9917 - val_loss: 8.4736e-05 - val_accuracy: 0.9844\n",
            "Epoch 82/100\n",
            "722/722 [==============================] - 0s 66us/sample - loss: 6.1369e-05 - accuracy: 0.9917 - val_loss: 8.4648e-05 - val_accuracy: 0.9844\n",
            "Epoch 83/100\n",
            "722/722 [==============================] - 0s 67us/sample - loss: 6.1313e-05 - accuracy: 0.9917 - val_loss: 8.4563e-05 - val_accuracy: 0.9844\n",
            "Epoch 84/100\n",
            "722/722 [==============================] - 0s 66us/sample - loss: 6.1258e-05 - accuracy: 0.9917 - val_loss: 8.4481e-05 - val_accuracy: 0.9844\n",
            "Epoch 85/100\n",
            "722/722 [==============================] - 0s 68us/sample - loss: 6.1206e-05 - accuracy: 0.9917 - val_loss: 8.4402e-05 - val_accuracy: 0.9844\n",
            "Epoch 86/100\n",
            "722/722 [==============================] - 0s 73us/sample - loss: 6.1157e-05 - accuracy: 0.9917 - val_loss: 8.4325e-05 - val_accuracy: 0.9844\n",
            "Epoch 87/100\n",
            "722/722 [==============================] - 0s 70us/sample - loss: 6.1109e-05 - accuracy: 0.9917 - val_loss: 8.4252e-05 - val_accuracy: 0.9844\n",
            "Epoch 88/100\n",
            "722/722 [==============================] - 0s 71us/sample - loss: 6.1063e-05 - accuracy: 0.9917 - val_loss: 8.4181e-05 - val_accuracy: 0.9844\n",
            "Epoch 89/100\n",
            "722/722 [==============================] - 0s 65us/sample - loss: 6.1019e-05 - accuracy: 0.9917 - val_loss: 8.4112e-05 - val_accuracy: 0.9844\n",
            "Epoch 90/100\n",
            "722/722 [==============================] - 0s 75us/sample - loss: 6.0976e-05 - accuracy: 0.9917 - val_loss: 8.4046e-05 - val_accuracy: 0.9844\n",
            "Epoch 91/100\n",
            "722/722 [==============================] - 0s 74us/sample - loss: 6.0936e-05 - accuracy: 0.9917 - val_loss: 8.3982e-05 - val_accuracy: 0.9844\n",
            "Epoch 92/100\n",
            "722/722 [==============================] - 0s 68us/sample - loss: 6.0897e-05 - accuracy: 0.9917 - val_loss: 8.3921e-05 - val_accuracy: 0.9844\n",
            "Epoch 93/100\n",
            "722/722 [==============================] - 0s 62us/sample - loss: 6.0860e-05 - accuracy: 0.9917 - val_loss: 8.3861e-05 - val_accuracy: 0.9844\n",
            "Epoch 94/100\n",
            "722/722 [==============================] - 0s 71us/sample - loss: 6.0824e-05 - accuracy: 0.9917 - val_loss: 8.3804e-05 - val_accuracy: 0.9844\n",
            "Epoch 95/100\n",
            "722/722 [==============================] - 0s 60us/sample - loss: 6.0789e-05 - accuracy: 0.9917 - val_loss: 8.3748e-05 - val_accuracy: 0.9844\n",
            "Epoch 96/100\n",
            "722/722 [==============================] - 0s 66us/sample - loss: 6.0756e-05 - accuracy: 0.9917 - val_loss: 8.3695e-05 - val_accuracy: 0.9844\n",
            "Epoch 97/100\n",
            "722/722 [==============================] - 0s 62us/sample - loss: 6.0725e-05 - accuracy: 0.9917 - val_loss: 8.3643e-05 - val_accuracy: 0.9844\n",
            "Epoch 98/100\n",
            "722/722 [==============================] - 0s 60us/sample - loss: 6.0694e-05 - accuracy: 0.9917 - val_loss: 8.3594e-05 - val_accuracy: 0.9844\n",
            "Epoch 99/100\n",
            "722/722 [==============================] - 0s 65us/sample - loss: 6.0665e-05 - accuracy: 0.9917 - val_loss: 8.3545e-05 - val_accuracy: 0.9844\n",
            "Epoch 100/100\n",
            "722/722 [==============================] - 0s 68us/sample - loss: 6.0637e-05 - accuracy: 0.9917 - val_loss: 8.3499e-05 - val_accuracy: 0.9844\n"
          ],
          "name": "stdout"
        },
        {
          "output_type": "execute_result",
          "data": {
            "text/plain": [
              "<tensorflow.python.keras.callbacks.History at 0x7f435d511748>"
            ]
          },
          "metadata": {
            "tags": []
          },
          "execution_count": 53
        }
      ]
    },
    {
      "cell_type": "code",
      "metadata": {
        "id": "FBWtqKCDtXHN",
        "colab_type": "code",
        "outputId": "0cc9f60a-f13d-4a2d-cca8-5edce3c4ec78",
        "colab": {
          "base_uri": "https://localhost:8080/",
          "height": 1000
        }
      },
      "source": [
        "# Training\n",
        "model.fit(x=standardized_X_train, \n",
        "          y=y_train,\n",
        "          validation_data=(standardized_X_val, y_val),\n",
        "          epochs=NUM_EPOCHS,\n",
        "          batch_size=BATCH_SIZE,\n",
        "          class_weight=class_weights,\n",
        "          shuffle=False,\n",
        "          verbose=1)"
      ],
      "execution_count": 0,
      "outputs": [
        {
          "output_type": "stream",
          "text": [
            "Train on 722 samples, validate on 128 samples\n",
            "Epoch 1/100\n",
            "722/722 [==============================] - 1s 2ms/sample - loss: 8.3439e-04 - accuracy: 0.8615 - val_loss: 4.1483e-04 - val_accuracy: 0.9688\n",
            "Epoch 2/100\n",
            "722/722 [==============================] - 0s 72us/sample - loss: 2.5897e-04 - accuracy: 0.9834 - val_loss: 2.8280e-04 - val_accuracy: 0.9766\n",
            "Epoch 3/100\n",
            "722/722 [==============================] - 0s 74us/sample - loss: 1.9570e-04 - accuracy: 0.9861 - val_loss: 2.3468e-04 - val_accuracy: 0.9844\n",
            "Epoch 4/100\n",
            "722/722 [==============================] - 0s 94us/sample - loss: 1.7173e-04 - accuracy: 0.9875 - val_loss: 2.1131e-04 - val_accuracy: 0.9844\n",
            "Epoch 5/100\n",
            "722/722 [==============================] - 0s 73us/sample - loss: 1.5492e-04 - accuracy: 0.9875 - val_loss: 1.9432e-04 - val_accuracy: 0.9844\n",
            "Epoch 6/100\n",
            "722/722 [==============================] - 0s 80us/sample - loss: 1.4234e-04 - accuracy: 0.9889 - val_loss: 1.8063e-04 - val_accuracy: 0.9844\n",
            "Epoch 7/100\n",
            "722/722 [==============================] - 0s 72us/sample - loss: 1.3253e-04 - accuracy: 0.9889 - val_loss: 1.6964e-04 - val_accuracy: 0.9844\n",
            "Epoch 8/100\n",
            "722/722 [==============================] - 0s 71us/sample - loss: 1.2462e-04 - accuracy: 0.9889 - val_loss: 1.6068e-04 - val_accuracy: 0.9844\n",
            "Epoch 9/100\n",
            "722/722 [==============================] - 0s 70us/sample - loss: 1.1810e-04 - accuracy: 0.9889 - val_loss: 1.5321e-04 - val_accuracy: 0.9844\n",
            "Epoch 10/100\n",
            "722/722 [==============================] - 0s 68us/sample - loss: 1.1262e-04 - accuracy: 0.9889 - val_loss: 1.4687e-04 - val_accuracy: 0.9844\n",
            "Epoch 11/100\n",
            "722/722 [==============================] - 0s 66us/sample - loss: 1.0796e-04 - accuracy: 0.9889 - val_loss: 1.4143e-04 - val_accuracy: 0.9844\n",
            "Epoch 12/100\n",
            "722/722 [==============================] - 0s 79us/sample - loss: 1.0394e-04 - accuracy: 0.9889 - val_loss: 1.3671e-04 - val_accuracy: 0.9844\n",
            "Epoch 13/100\n",
            "722/722 [==============================] - 0s 69us/sample - loss: 1.0043e-04 - accuracy: 0.9903 - val_loss: 1.3258e-04 - val_accuracy: 0.9844\n",
            "Epoch 14/100\n",
            "722/722 [==============================] - 0s 67us/sample - loss: 9.7343e-05 - accuracy: 0.9903 - val_loss: 1.2893e-04 - val_accuracy: 0.9844\n",
            "Epoch 15/100\n",
            "722/722 [==============================] - 0s 69us/sample - loss: 9.4607e-05 - accuracy: 0.9903 - val_loss: 1.2568e-04 - val_accuracy: 0.9844\n",
            "Epoch 16/100\n",
            "722/722 [==============================] - 0s 72us/sample - loss: 9.2165e-05 - accuracy: 0.9903 - val_loss: 1.2278e-04 - val_accuracy: 0.9844\n",
            "Epoch 17/100\n",
            "722/722 [==============================] - 0s 80us/sample - loss: 8.9973e-05 - accuracy: 0.9903 - val_loss: 1.2016e-04 - val_accuracy: 0.9844\n",
            "Epoch 18/100\n",
            "722/722 [==============================] - 0s 78us/sample - loss: 8.7994e-05 - accuracy: 0.9903 - val_loss: 1.1780e-04 - val_accuracy: 0.9844\n",
            "Epoch 19/100\n",
            "722/722 [==============================] - 0s 77us/sample - loss: 8.6200e-05 - accuracy: 0.9903 - val_loss: 1.1565e-04 - val_accuracy: 0.9844\n",
            "Epoch 20/100\n",
            "722/722 [==============================] - 0s 76us/sample - loss: 8.4566e-05 - accuracy: 0.9903 - val_loss: 1.1369e-04 - val_accuracy: 0.9844\n",
            "Epoch 21/100\n",
            "722/722 [==============================] - 0s 78us/sample - loss: 8.3072e-05 - accuracy: 0.9903 - val_loss: 1.1190e-04 - val_accuracy: 0.9844\n",
            "Epoch 22/100\n",
            "722/722 [==============================] - 0s 78us/sample - loss: 8.1703e-05 - accuracy: 0.9903 - val_loss: 1.1025e-04 - val_accuracy: 0.9844\n",
            "Epoch 23/100\n",
            "722/722 [==============================] - 0s 76us/sample - loss: 8.0443e-05 - accuracy: 0.9903 - val_loss: 1.0873e-04 - val_accuracy: 0.9844\n",
            "Epoch 24/100\n",
            "722/722 [==============================] - 0s 88us/sample - loss: 7.9280e-05 - accuracy: 0.9903 - val_loss: 1.0732e-04 - val_accuracy: 0.9844\n",
            "Epoch 25/100\n",
            "722/722 [==============================] - 0s 77us/sample - loss: 7.8205e-05 - accuracy: 0.9903 - val_loss: 1.0602e-04 - val_accuracy: 0.9844\n",
            "Epoch 26/100\n",
            "722/722 [==============================] - 0s 76us/sample - loss: 7.7209e-05 - accuracy: 0.9903 - val_loss: 1.0482e-04 - val_accuracy: 0.9844\n",
            "Epoch 27/100\n",
            "722/722 [==============================] - 0s 77us/sample - loss: 7.6283e-05 - accuracy: 0.9917 - val_loss: 1.0369e-04 - val_accuracy: 0.9844\n",
            "Epoch 28/100\n",
            "722/722 [==============================] - 0s 73us/sample - loss: 7.5420e-05 - accuracy: 0.9917 - val_loss: 1.0264e-04 - val_accuracy: 0.9844\n",
            "Epoch 29/100\n",
            "722/722 [==============================] - 0s 75us/sample - loss: 7.4616e-05 - accuracy: 0.9917 - val_loss: 1.0166e-04 - val_accuracy: 0.9844\n",
            "Epoch 30/100\n",
            "722/722 [==============================] - 0s 71us/sample - loss: 7.3865e-05 - accuracy: 0.9917 - val_loss: 1.0074e-04 - val_accuracy: 0.9844\n",
            "Epoch 31/100\n",
            "722/722 [==============================] - 0s 77us/sample - loss: 7.3162e-05 - accuracy: 0.9917 - val_loss: 9.9879e-05 - val_accuracy: 0.9844\n",
            "Epoch 32/100\n",
            "722/722 [==============================] - 0s 79us/sample - loss: 7.2503e-05 - accuracy: 0.9917 - val_loss: 9.9070e-05 - val_accuracy: 0.9844\n",
            "Epoch 33/100\n",
            "722/722 [==============================] - 0s 88us/sample - loss: 7.1885e-05 - accuracy: 0.9917 - val_loss: 9.8309e-05 - val_accuracy: 0.9844\n",
            "Epoch 34/100\n",
            "722/722 [==============================] - 0s 79us/sample - loss: 7.1303e-05 - accuracy: 0.9917 - val_loss: 9.7592e-05 - val_accuracy: 0.9844\n",
            "Epoch 35/100\n",
            "722/722 [==============================] - 0s 90us/sample - loss: 7.0757e-05 - accuracy: 0.9917 - val_loss: 9.6916e-05 - val_accuracy: 0.9844\n",
            "Epoch 36/100\n",
            "722/722 [==============================] - 0s 83us/sample - loss: 7.0242e-05 - accuracy: 0.9917 - val_loss: 9.6277e-05 - val_accuracy: 0.9844\n",
            "Epoch 37/100\n",
            "722/722 [==============================] - 0s 72us/sample - loss: 6.9756e-05 - accuracy: 0.9917 - val_loss: 9.5673e-05 - val_accuracy: 0.9844\n",
            "Epoch 38/100\n",
            "722/722 [==============================] - 0s 92us/sample - loss: 6.9298e-05 - accuracy: 0.9917 - val_loss: 9.5102e-05 - val_accuracy: 0.9844\n",
            "Epoch 39/100\n",
            "722/722 [==============================] - 0s 77us/sample - loss: 6.8865e-05 - accuracy: 0.9917 - val_loss: 9.4561e-05 - val_accuracy: 0.9844\n",
            "Epoch 40/100\n",
            "722/722 [==============================] - 0s 75us/sample - loss: 6.8455e-05 - accuracy: 0.9917 - val_loss: 9.4047e-05 - val_accuracy: 0.9844\n",
            "Epoch 41/100\n",
            "722/722 [==============================] - 0s 75us/sample - loss: 6.8067e-05 - accuracy: 0.9917 - val_loss: 9.3560e-05 - val_accuracy: 0.9844\n",
            "Epoch 42/100\n",
            "722/722 [==============================] - 0s 71us/sample - loss: 6.7700e-05 - accuracy: 0.9917 - val_loss: 9.3097e-05 - val_accuracy: 0.9844\n",
            "Epoch 43/100\n",
            "722/722 [==============================] - 0s 70us/sample - loss: 6.7352e-05 - accuracy: 0.9917 - val_loss: 9.2657e-05 - val_accuracy: 0.9844\n",
            "Epoch 44/100\n",
            "722/722 [==============================] - 0s 76us/sample - loss: 6.7022e-05 - accuracy: 0.9917 - val_loss: 9.2238e-05 - val_accuracy: 0.9844\n",
            "Epoch 45/100\n",
            "722/722 [==============================] - 0s 78us/sample - loss: 6.6709e-05 - accuracy: 0.9917 - val_loss: 9.1839e-05 - val_accuracy: 0.9844\n",
            "Epoch 46/100\n",
            "722/722 [==============================] - 0s 78us/sample - loss: 6.6411e-05 - accuracy: 0.9917 - val_loss: 9.1459e-05 - val_accuracy: 0.9844\n",
            "Epoch 47/100\n",
            "722/722 [==============================] - 0s 86us/sample - loss: 6.6129e-05 - accuracy: 0.9917 - val_loss: 9.1096e-05 - val_accuracy: 0.9844\n",
            "Epoch 48/100\n",
            "722/722 [==============================] - 0s 82us/sample - loss: 6.5860e-05 - accuracy: 0.9917 - val_loss: 9.0750e-05 - val_accuracy: 0.9844\n",
            "Epoch 49/100\n",
            "722/722 [==============================] - 0s 82us/sample - loss: 6.5604e-05 - accuracy: 0.9917 - val_loss: 9.0420e-05 - val_accuracy: 0.9844\n",
            "Epoch 50/100\n",
            "722/722 [==============================] - 0s 83us/sample - loss: 6.5360e-05 - accuracy: 0.9917 - val_loss: 9.0105e-05 - val_accuracy: 0.9844\n",
            "Epoch 51/100\n",
            "722/722 [==============================] - 0s 83us/sample - loss: 6.5129e-05 - accuracy: 0.9917 - val_loss: 8.9803e-05 - val_accuracy: 0.9844\n",
            "Epoch 52/100\n",
            "722/722 [==============================] - 0s 84us/sample - loss: 6.4908e-05 - accuracy: 0.9917 - val_loss: 8.9515e-05 - val_accuracy: 0.9844\n",
            "Epoch 53/100\n",
            "722/722 [==============================] - 0s 88us/sample - loss: 6.4697e-05 - accuracy: 0.9917 - val_loss: 8.9239e-05 - val_accuracy: 0.9844\n",
            "Epoch 54/100\n",
            "722/722 [==============================] - 0s 85us/sample - loss: 6.4496e-05 - accuracy: 0.9917 - val_loss: 8.8975e-05 - val_accuracy: 0.9844\n",
            "Epoch 55/100\n",
            "722/722 [==============================] - 0s 75us/sample - loss: 6.4305e-05 - accuracy: 0.9917 - val_loss: 8.8723e-05 - val_accuracy: 0.9844\n",
            "Epoch 56/100\n",
            "722/722 [==============================] - 0s 82us/sample - loss: 6.4122e-05 - accuracy: 0.9917 - val_loss: 8.8480e-05 - val_accuracy: 0.9844\n",
            "Epoch 57/100\n",
            "722/722 [==============================] - 0s 74us/sample - loss: 6.3947e-05 - accuracy: 0.9917 - val_loss: 8.8248e-05 - val_accuracy: 0.9844\n",
            "Epoch 58/100\n",
            "722/722 [==============================] - 0s 72us/sample - loss: 6.3781e-05 - accuracy: 0.9917 - val_loss: 8.8026e-05 - val_accuracy: 0.9844\n",
            "Epoch 59/100\n",
            "722/722 [==============================] - 0s 73us/sample - loss: 6.3622e-05 - accuracy: 0.9917 - val_loss: 8.7812e-05 - val_accuracy: 0.9844\n",
            "Epoch 60/100\n",
            "722/722 [==============================] - 0s 73us/sample - loss: 6.3469e-05 - accuracy: 0.9917 - val_loss: 8.7607e-05 - val_accuracy: 0.9844\n",
            "Epoch 61/100\n",
            "722/722 [==============================] - 0s 78us/sample - loss: 6.3324e-05 - accuracy: 0.9917 - val_loss: 8.7411e-05 - val_accuracy: 0.9844\n",
            "Epoch 62/100\n",
            "722/722 [==============================] - 0s 74us/sample - loss: 6.3185e-05 - accuracy: 0.9917 - val_loss: 8.7222e-05 - val_accuracy: 0.9844\n",
            "Epoch 63/100\n",
            "722/722 [==============================] - 0s 75us/sample - loss: 6.3052e-05 - accuracy: 0.9917 - val_loss: 8.7041e-05 - val_accuracy: 0.9844\n",
            "Epoch 64/100\n",
            "722/722 [==============================] - 0s 79us/sample - loss: 6.2925e-05 - accuracy: 0.9917 - val_loss: 8.6866e-05 - val_accuracy: 0.9844\n",
            "Epoch 65/100\n",
            "722/722 [==============================] - 0s 75us/sample - loss: 6.2803e-05 - accuracy: 0.9917 - val_loss: 8.6699e-05 - val_accuracy: 0.9844\n",
            "Epoch 66/100\n",
            "722/722 [==============================] - 0s 79us/sample - loss: 6.2687e-05 - accuracy: 0.9917 - val_loss: 8.6538e-05 - val_accuracy: 0.9844\n",
            "Epoch 67/100\n",
            "722/722 [==============================] - 0s 80us/sample - loss: 6.2576e-05 - accuracy: 0.9917 - val_loss: 8.6383e-05 - val_accuracy: 0.9844\n",
            "Epoch 68/100\n",
            "722/722 [==============================] - 0s 80us/sample - loss: 6.2469e-05 - accuracy: 0.9917 - val_loss: 8.6234e-05 - val_accuracy: 0.9844\n",
            "Epoch 69/100\n",
            "722/722 [==============================] - 0s 84us/sample - loss: 6.2367e-05 - accuracy: 0.9917 - val_loss: 8.6091e-05 - val_accuracy: 0.9844\n",
            "Epoch 70/100\n",
            "722/722 [==============================] - 0s 88us/sample - loss: 6.2269e-05 - accuracy: 0.9917 - val_loss: 8.5953e-05 - val_accuracy: 0.9844\n",
            "Epoch 71/100\n",
            "722/722 [==============================] - 0s 80us/sample - loss: 6.2175e-05 - accuracy: 0.9917 - val_loss: 8.5821e-05 - val_accuracy: 0.9844\n",
            "Epoch 72/100\n",
            "722/722 [==============================] - 0s 78us/sample - loss: 6.2085e-05 - accuracy: 0.9917 - val_loss: 8.5693e-05 - val_accuracy: 0.9844\n",
            "Epoch 73/100\n",
            "722/722 [==============================] - 0s 92us/sample - loss: 6.1999e-05 - accuracy: 0.9917 - val_loss: 8.5570e-05 - val_accuracy: 0.9844\n",
            "Epoch 74/100\n",
            "722/722 [==============================] - 0s 87us/sample - loss: 6.1917e-05 - accuracy: 0.9917 - val_loss: 8.5452e-05 - val_accuracy: 0.9844\n",
            "Epoch 75/100\n",
            "722/722 [==============================] - 0s 100us/sample - loss: 6.1838e-05 - accuracy: 0.9917 - val_loss: 8.5338e-05 - val_accuracy: 0.9844\n",
            "Epoch 76/100\n",
            "722/722 [==============================] - 0s 82us/sample - loss: 6.1762e-05 - accuracy: 0.9917 - val_loss: 8.5228e-05 - val_accuracy: 0.9844\n",
            "Epoch 77/100\n",
            "722/722 [==============================] - 0s 82us/sample - loss: 6.1690e-05 - accuracy: 0.9917 - val_loss: 8.5122e-05 - val_accuracy: 0.9844\n",
            "Epoch 78/100\n",
            "722/722 [==============================] - 0s 87us/sample - loss: 6.1620e-05 - accuracy: 0.9917 - val_loss: 8.5020e-05 - val_accuracy: 0.9844\n",
            "Epoch 79/100\n",
            "722/722 [==============================] - 0s 84us/sample - loss: 6.1553e-05 - accuracy: 0.9917 - val_loss: 8.4922e-05 - val_accuracy: 0.9844\n",
            "Epoch 80/100\n",
            "722/722 [==============================] - 0s 71us/sample - loss: 6.1489e-05 - accuracy: 0.9917 - val_loss: 8.4827e-05 - val_accuracy: 0.9844\n",
            "Epoch 81/100\n",
            "722/722 [==============================] - 0s 74us/sample - loss: 6.1428e-05 - accuracy: 0.9917 - val_loss: 8.4736e-05 - val_accuracy: 0.9844\n",
            "Epoch 82/100\n",
            "722/722 [==============================] - 0s 99us/sample - loss: 6.1369e-05 - accuracy: 0.9917 - val_loss: 8.4648e-05 - val_accuracy: 0.9844\n",
            "Epoch 83/100\n",
            "722/722 [==============================] - 0s 88us/sample - loss: 6.1313e-05 - accuracy: 0.9917 - val_loss: 8.4563e-05 - val_accuracy: 0.9844\n",
            "Epoch 84/100\n",
            "722/722 [==============================] - 0s 79us/sample - loss: 6.1258e-05 - accuracy: 0.9917 - val_loss: 8.4481e-05 - val_accuracy: 0.9844\n",
            "Epoch 85/100\n",
            "722/722 [==============================] - 0s 87us/sample - loss: 6.1206e-05 - accuracy: 0.9917 - val_loss: 8.4402e-05 - val_accuracy: 0.9844\n",
            "Epoch 86/100\n",
            "722/722 [==============================] - 0s 81us/sample - loss: 6.1157e-05 - accuracy: 0.9917 - val_loss: 8.4325e-05 - val_accuracy: 0.9844\n",
            "Epoch 87/100\n",
            "722/722 [==============================] - 0s 74us/sample - loss: 6.1109e-05 - accuracy: 0.9917 - val_loss: 8.4252e-05 - val_accuracy: 0.9844\n",
            "Epoch 88/100\n",
            "722/722 [==============================] - 0s 77us/sample - loss: 6.1063e-05 - accuracy: 0.9917 - val_loss: 8.4181e-05 - val_accuracy: 0.9844\n",
            "Epoch 89/100\n",
            "722/722 [==============================] - 0s 82us/sample - loss: 6.1019e-05 - accuracy: 0.9917 - val_loss: 8.4112e-05 - val_accuracy: 0.9844\n",
            "Epoch 90/100\n",
            "722/722 [==============================] - 0s 78us/sample - loss: 6.0976e-05 - accuracy: 0.9917 - val_loss: 8.4046e-05 - val_accuracy: 0.9844\n",
            "Epoch 91/100\n",
            "722/722 [==============================] - 0s 76us/sample - loss: 6.0936e-05 - accuracy: 0.9917 - val_loss: 8.3982e-05 - val_accuracy: 0.9844\n",
            "Epoch 92/100\n",
            "722/722 [==============================] - 0s 74us/sample - loss: 6.0897e-05 - accuracy: 0.9917 - val_loss: 8.3921e-05 - val_accuracy: 0.9844\n",
            "Epoch 93/100\n",
            "722/722 [==============================] - 0s 87us/sample - loss: 6.0860e-05 - accuracy: 0.9917 - val_loss: 8.3861e-05 - val_accuracy: 0.9844\n",
            "Epoch 94/100\n",
            "722/722 [==============================] - 0s 80us/sample - loss: 6.0824e-05 - accuracy: 0.9917 - val_loss: 8.3804e-05 - val_accuracy: 0.9844\n",
            "Epoch 95/100\n",
            "722/722 [==============================] - 0s 83us/sample - loss: 6.0789e-05 - accuracy: 0.9917 - val_loss: 8.3748e-05 - val_accuracy: 0.9844\n",
            "Epoch 96/100\n",
            "722/722 [==============================] - 0s 79us/sample - loss: 6.0756e-05 - accuracy: 0.9917 - val_loss: 8.3695e-05 - val_accuracy: 0.9844\n",
            "Epoch 97/100\n",
            "722/722 [==============================] - 0s 80us/sample - loss: 6.0725e-05 - accuracy: 0.9917 - val_loss: 8.3643e-05 - val_accuracy: 0.9844\n",
            "Epoch 98/100\n",
            "722/722 [==============================] - 0s 87us/sample - loss: 6.0694e-05 - accuracy: 0.9917 - val_loss: 8.3594e-05 - val_accuracy: 0.9844\n",
            "Epoch 99/100\n",
            "722/722 [==============================] - 0s 92us/sample - loss: 6.0665e-05 - accuracy: 0.9917 - val_loss: 8.3545e-05 - val_accuracy: 0.9844\n",
            "Epoch 100/100\n",
            "722/722 [==============================] - 0s 86us/sample - loss: 6.0637e-05 - accuracy: 0.9917 - val_loss: 8.3499e-05 - val_accuracy: 0.9844\n"
          ],
          "name": "stdout"
        },
        {
          "output_type": "execute_result",
          "data": {
            "text/plain": [
              "<tensorflow.python.keras.callbacks.History at 0x7f382a72d630>"
            ]
          },
          "metadata": {
            "tags": []
          },
          "execution_count": 39
        }
      ]
    },
    {
      "cell_type": "markdown",
      "metadata": {
        "id": "dM7iYW8ANYjy",
        "colab_type": "text"
      },
      "source": [
        "# Evaluation"
      ]
    },
    {
      "cell_type": "code",
      "metadata": {
        "id": "uFXbczqu8Rno",
        "colab_type": "code",
        "colab": {}
      },
      "source": [
        "import itertools\n",
        "import matplotlib.pyplot as plt\n",
        "from sklearn.metrics import accuracy_score\n",
        "from sklearn.metrics import classification_report\n",
        "from sklearn.metrics import confusion_matrix"
      ],
      "execution_count": 0,
      "outputs": []
    },
    {
      "cell_type": "markdown",
      "metadata": {
        "id": "D3_dQmWdQhSm",
        "colab_type": "text"
      },
      "source": [
        "### Components"
      ]
    },
    {
      "cell_type": "code",
      "metadata": {
        "id": "-RnQrNaKQhWJ",
        "colab_type": "code",
        "colab": {}
      },
      "source": [
        "def plot_confusion_matrix(y_true, y_pred, classes, cmap=plt.cm.Blues):\n",
        "    \"\"\"Plot a confusion matrix using ground truth and predictions.\"\"\"\n",
        "    # Confusion matrix\n",
        "    cm = confusion_matrix(y_true, y_pred)\n",
        "    cm_norm = cm.astype('float') / cm.sum(axis=1)[:, np.newaxis]\n",
        "\n",
        "    #  Figure\n",
        "    fig = plt.figure()\n",
        "    ax = fig.add_subplot(111)\n",
        "    cax = ax.matshow(cm, cmap=plt.cm.Blues)\n",
        "    fig.colorbar(cax)\n",
        "\n",
        "    # Axis\n",
        "    plt.title(\"Confusion matrix\")\n",
        "    plt.ylabel(\"True label\")\n",
        "    plt.xlabel(\"Predicted label\")\n",
        "    ax.set_xticklabels([''] + classes)\n",
        "    ax.set_yticklabels([''] + classes)\n",
        "    ax.xaxis.set_label_position('bottom') \n",
        "    ax.xaxis.tick_bottom()\n",
        "\n",
        "    # Values\n",
        "    thresh = cm.max() / 2.\n",
        "    for i, j in itertools.product(range(cm.shape[0]), range(cm.shape[1])):\n",
        "        plt.text(j, i, f\"{cm[i, j]:d} ({cm_norm[i, j]*100:.1f}%)\",\n",
        "                 horizontalalignment=\"center\",\n",
        "                 color=\"white\" if cm[i, j] > thresh else \"black\")\n",
        "\n",
        "    # Display\n",
        "    plt.show()"
      ],
      "execution_count": 0,
      "outputs": []
    },
    {
      "cell_type": "markdown",
      "metadata": {
        "id": "klyws2fhBeyr",
        "colab_type": "text"
      },
      "source": [
        "### Operations"
      ]
    },
    {
      "cell_type": "code",
      "metadata": {
        "id": "p9saQ4XuayRS",
        "colab_type": "code",
        "outputId": "8c5ab9b5-a331-4b79-8620-c2b52fbae743",
        "colab": {
          "base_uri": "https://localhost:8080/",
          "height": 51
        }
      },
      "source": [
        "# Predictions\n",
        "pred_train = model.predict(standardized_X_train) \n",
        "pred_test = model.predict(standardized_X_test)\n",
        "print (f\"sample probability: {pred_test[0]}\")\n",
        "pred_train = np.argmax(pred_train, axis=1)\n",
        "pred_test = np.argmax(pred_test, axis=1)\n",
        "print (f\"sample class: {pred_test[0]}\")"
      ],
      "execution_count": 0,
      "outputs": [
        {
          "output_type": "stream",
          "text": [
            "sample probability: [2.5153402e-05 9.9997485e-01]\n",
            "sample class: 1\n"
          ],
          "name": "stdout"
        }
      ]
    },
    {
      "cell_type": "code",
      "metadata": {
        "id": "iY_VjPbobE0w",
        "colab_type": "code",
        "outputId": "8d591a5a-028c-4398-d287-8709abd07354",
        "colab": {
          "base_uri": "https://localhost:8080/",
          "height": 34
        }
      },
      "source": [
        "np.argmax([2.5153402e-05, 9.9997485e-01]),np.argmin([2.5153402e-05, 9.9997485e-01])"
      ],
      "execution_count": 0,
      "outputs": [
        {
          "output_type": "execute_result",
          "data": {
            "text/plain": [
              "(1, 0)"
            ]
          },
          "metadata": {
            "tags": []
          },
          "execution_count": 59
        }
      ]
    },
    {
      "cell_type": "code",
      "metadata": {
        "id": "-jZtTd7F6_ps",
        "colab_type": "code",
        "outputId": "755810f7-3181-4e72-9fe8-ab79303fc85c",
        "colab": {
          "base_uri": "https://localhost:8080/",
          "height": 51
        }
      },
      "source": [
        "# Predictions\n",
        "pred_train = model.predict(standardized_X_train) \n",
        "pred_test = model.predict(standardized_X_test)\n",
        "print (f\"sample probability: {pred_test[0]}\")\n",
        "pred_train = np.argmax(pred_train, axis=1)\n",
        "pred_test = np.argmax(pred_test, axis=1)\n",
        "print (f\"sample class: {pred_test[0]}\")"
      ],
      "execution_count": 0,
      "outputs": [
        {
          "output_type": "stream",
          "text": [
            "sample probability: [2.5153426e-05 9.9997485e-01]\n",
            "sample class: 1\n"
          ],
          "name": "stdout"
        }
      ]
    },
    {
      "cell_type": "code",
      "metadata": {
        "id": "sOdnFWpobonl",
        "colab_type": "code",
        "outputId": "59376aeb-bf8c-4197-bd1c-373574df33f1",
        "colab": {
          "base_uri": "https://localhost:8080/",
          "height": 34
        }
      },
      "source": [
        "# Accuracy\n",
        "train_acc = accuracy_score(y_train, pred_train)\n",
        "test_acc = accuracy_score(y_test, pred_test)\n",
        "print (f\"train acc: {train_acc:.2f}, test acc: {test_acc:.2f}\")"
      ],
      "execution_count": 0,
      "outputs": [
        {
          "output_type": "stream",
          "text": [
            "train acc: 0.99, test acc: 0.97\n"
          ],
          "name": "stdout"
        }
      ]
    },
    {
      "cell_type": "code",
      "metadata": {
        "id": "sEjansj78Rqe",
        "colab_type": "code",
        "outputId": "a8443219-3fee-4535-a7d9-25dacd0f64ad",
        "colab": {
          "base_uri": "https://localhost:8080/",
          "height": 34
        }
      },
      "source": [
        "# Accuracy\n",
        "train_acc = accuracy_score(y_train, pred_train)\n",
        "test_acc = accuracy_score(y_test, pred_test)\n",
        "print (f\"train acc: {train_acc:.2f}, test acc: {test_acc:.2f}\")"
      ],
      "execution_count": 0,
      "outputs": [
        {
          "output_type": "stream",
          "text": [
            "train acc: 0.99, test acc: 0.97\n"
          ],
          "name": "stdout"
        }
      ]
    },
    {
      "cell_type": "code",
      "metadata": {
        "id": "y2VQe4Jbbwh2",
        "colab_type": "code",
        "outputId": "93bb0372-b391-4cd7-c8ba-ad3c0fa44796",
        "colab": {
          "base_uri": "https://localhost:8080/",
          "height": 336
        }
      },
      "source": [
        "# Visualize the decision boundary\n",
        "plt.figure(figsize=(12,5))\n",
        "plt.subplot(1, 2, 1)\n",
        "plt.title(\"Train\")\n",
        "plot_multiclass_decision_boundary(model=model, X=standardized_X_train, y=y_train)\n",
        "plt.subplot(1, 2, 2)\n",
        "plt.title(\"Test\")\n",
        "plot_multiclass_decision_boundary(model=model, X=standardized_X_test, y=y_test)\n",
        "plt.show()"
      ],
      "execution_count": 0,
      "outputs": [
        {
          "output_type": "display_data",
          "data": {
            "image/png": "[encoded data removed]",
            "text/plain": [
              "<Figure size 864x360 with 2 Axes>"
            ]
          },
          "metadata": {
            "tags": []
          }
        }
      ]
    },
    {
      "cell_type": "code",
      "metadata": {
        "id": "t9uDMe_Dh4cs",
        "colab_type": "code",
        "outputId": "821ab91e-952f-4b57-8a9c-98ce8d57aaa7",
        "colab": {
          "base_uri": "https://localhost:8080/",
          "height": 336
        }
      },
      "source": [
        "# Visualize the decision boundary\n",
        "plt.figure(figsize=(12,5))\n",
        "plt.subplot(1, 2, 1)\n",
        "plt.title(\"Train\")\n",
        "plot_multiclass_decision_boundary(model=model, X=standardized_X_train, y=y_train)\n",
        "plt.subplot(1, 2, 2)\n",
        "plt.title(\"Test\")\n",
        "plot_multiclass_decision_boundary(model=model, X=standardized_X_test, y=y_test)\n",
        "plt.show()"
      ],
      "execution_count": 0,
      "outputs": [
        {
          "output_type": "display_data",
          "data": {
            "image/png": "[encoded data removed]",
            "text/plain": [
              "<Figure size 864x360 with 2 Axes>"
            ]
          },
          "metadata": {
            "tags": []
          }
        }
      ]
    },
    {
      "cell_type": "markdown",
      "metadata": {
        "id": "WijzY-vDNbE9",
        "colab_type": "text"
      },
      "source": [
        "So far we looked at accuracy as the metric that determines our mode's level of performance. But we have several other options when it comes to  evaluation metrics.\n",
        "\n",
        "<img src=\"https://raw.githubusercontent.com/practicalAI/images/master/basic_ml/05_Logistic_Regression/metrics.png\" width=\"350\">"
      ]
    },
    {
      "cell_type": "markdown",
      "metadata": {
        "id": "80MwyE0yOr-k",
        "colab_type": "text"
      },
      "source": [
        "The metric we choose really depends on the situation.\n",
        "positive - true, 1, tumor, issue, etc., negative - false, 0, not tumor, not issue, etc.\n",
        "\n",
        "$\\text{accuracy} = \\frac{TP+TN}{TP+TN+FP+FN}$ \n",
        "\n",
        "$\\text{recall} = \\frac{TP}{TP+FN}$ → (how many of the actual issues did I catch)\n",
        "\n",
        "$\\text{precision} = \\frac{TP}{TP+FP}$ → (out of all the things I said were issues, how many were actually issues)\n",
        "\n",
        "$F_1 = 2 * \\frac{\\text{precision }  *  \\text{ recall}}{\\text{precision } + \\text{ recall}}$\n",
        "\n",
        "where: \n",
        "* TP: # of samples predicted to be positive and were actually positive\n",
        "* TN: # of samples predicted to be negative and were actually negative\n",
        "* FP: # of samples predicted to be positive but were actually negative\n",
        "* FN: # of samples predicted to be negative but were actually positive"
      ]
    },
    {
      "cell_type": "code",
      "metadata": {
        "id": "bkQbD5Stb_y6",
        "colab_type": "code",
        "outputId": "239f22a2-2b4f-414e-b67f-60e45b025afd",
        "colab": {
          "base_uri": "https://localhost:8080/",
          "height": 459
        }
      },
      "source": [
        "# Classification report\n",
        "plot_confusion_matrix(y_true=y_test, y_pred=pred_test, classes=classes)\n",
        "print (classification_report(y_test, pred_test))"
      ],
      "execution_count": 0,
      "outputs": [
        {
          "output_type": "display_data",
          "data": {
            "image/png": "[encoded data removed]",
            "text/plain": [
              "<Figure size 432x288 with 2 Axes>"
            ]
          },
          "metadata": {
            "tags": []
          }
        },
        {
          "output_type": "stream",
          "text": [
            "              precision    recall  f1-score   support\n",
            "\n",
            "           0       0.94      1.00      0.97        58\n",
            "           1       1.00      0.96      0.98        92\n",
            "\n",
            "    accuracy                           0.97       150\n",
            "   macro avg       0.97      0.98      0.97       150\n",
            "weighted avg       0.98      0.97      0.97       150\n",
            "\n"
          ],
          "name": "stdout"
        }
      ]
    },
    {
      "cell_type": "code",
      "metadata": {
        "id": "8N8jPq_Cy2hp",
        "colab_type": "code",
        "outputId": "f41499c4-c890-4ea0-a1b9-68dce0f26b98",
        "colab": {
          "base_uri": "https://localhost:8080/",
          "height": 459
        }
      },
      "source": [
        "# Classification report\n",
        "plot_confusion_matrix(y_true=y_test, y_pred=pred_test, classes=classes)\n",
        "print (classification_report(y_test, pred_test))"
      ],
      "execution_count": 0,
      "outputs": [
        {
          "output_type": "display_data",
          "data": {
            "image/png": "[encoded data removed]",
            "text/plain": [
              "<Figure size 432x288 with 2 Axes>"
            ]
          },
          "metadata": {
            "tags": []
          }
        },
        {
          "output_type": "stream",
          "text": [
            "              precision    recall  f1-score   support\n",
            "\n",
            "           0       0.94      1.00      0.97        58\n",
            "           1       1.00      0.96      0.98        92\n",
            "\n",
            "    accuracy                           0.97       150\n",
            "   macro avg       0.97      0.98      0.97       150\n",
            "weighted avg       0.98      0.97      0.97       150\n",
            "\n"
          ],
          "name": "stdout"
        }
      ]
    },
    {
      "cell_type": "markdown",
      "metadata": {
        "id": "9v6zc1_1PWnz",
        "colab_type": "text"
      },
      "source": [
        "# Inference"
      ]
    },
    {
      "cell_type": "code",
      "metadata": {
        "id": "kX9428-EPUzx",
        "colab_type": "code",
        "outputId": "83402bdc-66de-4647-aefc-f9fbb93e5bda",
        "colab": {
          "base_uri": "https://localhost:8080/",
          "height": 80
        }
      },
      "source": [
        "# Inputs for inference\n",
        "X_infer = pd.DataFrame([{'leukocyte_count': 13, 'blood_pressure': 12}])\n",
        "X_infer.head()"
      ],
      "execution_count": 0,
      "outputs": [
        {
          "output_type": "execute_result",
          "data": {
            "text/html": [
              "<div>\n",
              "<style scoped>\n",
              "    .dataframe tbody tr th:only-of-type {\n",
              "        vertical-align: middle;\n",
              "    }\n",
              "\n",
              "    .dataframe tbody tr th {\n",
              "        vertical-align: top;\n",
              "    }\n",
              "\n",
              "    .dataframe thead th {\n",
              "        text-align: right;\n",
              "    }\n",
              "</style>\n",
              "<table border=\"1\" class=\"dataframe\">\n",
              "  <thead>\n",
              "    <tr style=\"text-align: right;\">\n",
              "      <th></th>\n",
              "      <th>leukocyte_count</th>\n",
              "      <th>blood_pressure</th>\n",
              "    </tr>\n",
              "  </thead>\n",
              "  <tbody>\n",
              "    <tr>\n",
              "      <th>0</th>\n",
              "      <td>13</td>\n",
              "      <td>12</td>\n",
              "    </tr>\n",
              "  </tbody>\n",
              "</table>\n",
              "</div>"
            ],
            "text/plain": [
              "   leukocyte_count  blood_pressure\n",
              "0               13              12"
            ]
          },
          "metadata": {
            "tags": []
          },
          "execution_count": 63
        }
      ]
    },
    {
      "cell_type": "code",
      "metadata": {
        "id": "3qY6buxLKb2o",
        "colab_type": "code",
        "outputId": "1425651d-ab1c-4b78-95eb-415296810c66",
        "colab": {
          "base_uri": "https://localhost:8080/",
          "height": 34
        }
      },
      "source": [
        "# Standardize\n",
        "standardized_X_infer = X_scaler.transform(X_infer)\n",
        "print (standardized_X_infer)"
      ],
      "execution_count": 0,
      "outputs": [
        {
          "output_type": "stream",
          "text": [
            "[[-0.66523095 -3.08638693]]\n"
          ],
          "name": "stdout"
        }
      ]
    },
    {
      "cell_type": "code",
      "metadata": {
        "id": "MLEoeAW6cQ2R",
        "colab_type": "code",
        "outputId": "7ee1f99b-d672-45d3-fcfc-58a849001c09",
        "colab": {
          "base_uri": "https://localhost:8080/",
          "height": 34
        }
      },
      "source": [
        "# Predict\n",
        "y_infer = model.predict(standardized_X_infer)\n",
        "_class = np.argmax(y_infer)\n",
        "print (f\"The probability that you have a {classes[_class]} tumor is {y_infer[0][_class]*100.0:.0f}%\")"
      ],
      "execution_count": 0,
      "outputs": [
        {
          "output_type": "stream",
          "text": [
            "The probability that you have a benign tumor is 99%\n"
          ],
          "name": "stdout"
        }
      ]
    },
    {
      "cell_type": "code",
      "metadata": {
        "id": "7O5PbOAvXTzF",
        "colab_type": "code",
        "outputId": "a09f71c7-3548-4bb2-ffb8-888ccf705444",
        "colab": {
          "base_uri": "https://localhost:8080/",
          "height": 34
        }
      },
      "source": [
        "# Predict\n",
        "y_infer = model.predict(standardized_X_infer)\n",
        "_class = np.argmax(y_infer)\n",
        "print (f\"The probability that you have a {classes[_class]} tumor is {y_infer[0][_class]*100.0:.0f}%\")"
      ],
      "execution_count": 0,
      "outputs": [
        {
          "output_type": "stream",
          "text": [
            "The probability that you have a benign tumor is 99%\n"
          ],
          "name": "stdout"
        }
      ]
    },
    {
      "cell_type": "markdown",
      "metadata": {
        "id": "8PLPFFP67tvL",
        "colab_type": "text"
      },
      "source": [
        "# Unscaled weights"
      ]
    },
    {
      "cell_type": "markdown",
      "metadata": {
        "id": "jv6LKNXO7uch",
        "colab_type": "text"
      },
      "source": [
        "Which of the features are most influential?"
      ]
    },
    {
      "cell_type": "markdown",
      "metadata": {
        "id": "_XYBW85WIdKy",
        "colab_type": "text"
      },
      "source": [
        "Note that only X was standardized.\n",
        "\n",
        "$\\hat{y}_{unscaled} = b_{scaled} + \\sum_{j=1}^{k}W_{{scaled}_j}x_{{scaled}_j}$\n",
        "* $x_{scaled} = \\frac{x_j - \\bar{x}_j}{\\sigma_j}$\n",
        "\n",
        "$\\hat{y}_{unscaled} = b_{scaled} + \\sum_{j=1}^{k} W_{{scaled}_j} (\\frac{x_j - \\bar{x}_j}{\\sigma_j}) $\n",
        "\n",
        "$\\hat{y}_{unscaled} = (b_{scaled} - \\sum_{j=1}^{k} W_{{scaled}_j}\\frac{\\bar{x}_j}{\\sigma_j}) +  \\sum_{j=1}^{k} (\\frac{W_{{scaled}_j}}{\\sigma_j})x_j$\n",
        "\n",
        "In the expression above, we can see the expression $\\hat{y}_{unscaled} = W_{unscaled}x + b_{unscaled} $\n",
        "\n",
        "* $W_{unscaled} = \\sum_{j=1}^{k} (\\frac{W_{{scaled}_j}}{\\sigma_j}) $\n",
        "\n",
        "* $b_{unscaled} = b_{scaled} - \\sum_{j=1}^{k} W_{{scaled}_j}\\frac{\\bar{x}_j}{\\sigma_j}$"
      ]
    },
    {
      "cell_type": "code",
      "metadata": {
        "id": "J7A-9pCicxEk",
        "colab_type": "code",
        "outputId": "a134a084-ce56-49ff-bab1-dfb8b5e17b2f",
        "colab": {
          "base_uri": "https://localhost:8080/",
          "height": 68
        }
      },
      "source": [
        "# Unstandardize weights \n",
        "W = model.layers[0].get_weights()[0]\n",
        "b = model.layers[0].get_weights()[1]\n",
        "W_unscaled = W / X_scaler.scale_\n",
        "b_unscaled = b - np.sum((W_unscaled * X_scaler.mean_))\n",
        "print (W_unscaled)\n",
        "print (b_unscaled)"
      ],
      "execution_count": 0,
      "outputs": [
        {
          "output_type": "stream",
          "text": [
            "[[  3.89990762 -10.87473926]\n",
            " [ -1.58108892   3.9251714 ]]\n",
            "[68.22472 75.63666]\n"
          ],
          "name": "stdout"
        }
      ]
    },
    {
      "cell_type": "code",
      "metadata": {
        "id": "KTSpxbwy7ugl",
        "colab_type": "code",
        "outputId": "cfd97bc5-af04-4ddd-8891-0e1aa29b14fe",
        "colab": {
          "base_uri": "https://localhost:8080/",
          "height": 68
        }
      },
      "source": [
        "# Unstandardize weights \n",
        "W = model.layers[0].get_weights()[0]\n",
        "b = model.layers[0].get_weights()[1]\n",
        "W_unscaled = W / X_scaler.scale_\n",
        "b_unscaled = b - np.sum((W_unscaled * X_scaler.mean_))\n",
        "print (W_unscaled)\n",
        "print (b_unscaled)"
      ],
      "execution_count": 0,
      "outputs": [
        {
          "output_type": "stream",
          "text": [
            "[[  3.89990762 -10.87473838]\n",
            " [ -1.58108892   3.92517096]]\n",
            "[68.22471 75.63666]\n"
          ],
          "name": "stdout"
        }
      ]
    },
    {
      "cell_type": "markdown",
      "metadata": {
        "id": "PbcuwPdKEMlK",
        "colab_type": "text"
      },
      "source": [
        "---\n",
        "<div align=\"center\">\n",
        "\n",
        "Subscribe to our <a href=\"https://practicalai.me/#newsletter\">newsletter</a> and follow us on social media to get the latest updates!\n",
        "\n",
        "<a class=\"ai-header-badge\" target=\"_blank\" href=\"https://github.com/practicalAI/practicalAI\">\n",
        "              <img src=\"https://img.shields.io/github/stars/practicalAI/practicalAI.svg?style=social&label=Star\"></a>&nbsp;\n",
        "            <a class=\"ai-header-badge\" target=\"_blank\" href=\"https://www.linkedin.com/company/practicalai-me\">\n",
        "              <img src=\"https://img.shields.io/badge/style--5eba00.svg?label=LinkedIn&logo=linkedin&style=social\"></a>&nbsp;\n",
        "            <a class=\"ai-header-badge\" target=\"_blank\" href=\"https://twitter.com/practicalAIme\">\n",
        "              <img src=\"https://img.shields.io/twitter/follow/practicalAIme.svg?label=Follow&style=social\">\n",
        "            </a>\n",
        "              </div>\n",
        "\n",
        "</div>"
      ]
    }
  ]
}